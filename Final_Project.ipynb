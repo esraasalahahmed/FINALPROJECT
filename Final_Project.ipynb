{
 "cells": [
  {
   "cell_type": "code",
   "execution_count": 1,
   "id": "93d1d09d",
   "metadata": {},
   "outputs": [],
   "source": [
    "import pandas as pd\n",
    "import numpy as np\n",
    "import seaborn as sns\n",
    "import matplotlib.pyplot as plt"
   ]
  },
  {
   "cell_type": "code",
   "execution_count": 2,
   "id": "b7246309",
   "metadata": {},
   "outputs": [],
   "source": [
    "data1 = pd.read_csv('Economic Data.csv')"
   ]
  },
  {
   "cell_type": "code",
   "execution_count": 3,
   "id": "a6399d33",
   "metadata": {},
   "outputs": [
    {
     "data": {
      "text/html": [
       "<div>\n",
       "<style scoped>\n",
       "    .dataframe tbody tr th:only-of-type {\n",
       "        vertical-align: middle;\n",
       "    }\n",
       "\n",
       "    .dataframe tbody tr th {\n",
       "        vertical-align: top;\n",
       "    }\n",
       "\n",
       "    .dataframe thead th {\n",
       "        text-align: right;\n",
       "    }\n",
       "</style>\n",
       "<table border=\"1\" class=\"dataframe\">\n",
       "  <thead>\n",
       "    <tr style=\"text-align: right;\">\n",
       "      <th></th>\n",
       "      <th>stock index</th>\n",
       "      <th>country</th>\n",
       "      <th>year</th>\n",
       "      <th>index price</th>\n",
       "      <th>log_indexprice</th>\n",
       "      <th>inflationrate</th>\n",
       "      <th>oil prices</th>\n",
       "      <th>exchange_rate</th>\n",
       "      <th>gdppercent</th>\n",
       "      <th>percapitaincome</th>\n",
       "      <th>unemploymentrate</th>\n",
       "      <th>manufacturingoutput</th>\n",
       "      <th>tradebalance</th>\n",
       "      <th>USTreasury</th>\n",
       "    </tr>\n",
       "  </thead>\n",
       "  <tbody>\n",
       "    <tr>\n",
       "      <th>0</th>\n",
       "      <td>NASDAQ</td>\n",
       "      <td>United States of America</td>\n",
       "      <td>1980.0</td>\n",
       "      <td>168.61</td>\n",
       "      <td>2.23</td>\n",
       "      <td>0.14</td>\n",
       "      <td>21.59</td>\n",
       "      <td>1.00</td>\n",
       "      <td>0.09</td>\n",
       "      <td>12575.0</td>\n",
       "      <td>0.07</td>\n",
       "      <td>NaN</td>\n",
       "      <td>-13.06</td>\n",
       "      <td>0.11</td>\n",
       "    </tr>\n",
       "    <tr>\n",
       "      <th>1</th>\n",
       "      <td>NASDAQ</td>\n",
       "      <td>United States of America</td>\n",
       "      <td>1981.0</td>\n",
       "      <td>203.15</td>\n",
       "      <td>2.31</td>\n",
       "      <td>0.10</td>\n",
       "      <td>31.77</td>\n",
       "      <td>1.00</td>\n",
       "      <td>0.12</td>\n",
       "      <td>13976.0</td>\n",
       "      <td>0.08</td>\n",
       "      <td>NaN</td>\n",
       "      <td>-12.52</td>\n",
       "      <td>0.14</td>\n",
       "    </tr>\n",
       "    <tr>\n",
       "      <th>2</th>\n",
       "      <td>NASDAQ</td>\n",
       "      <td>United States of America</td>\n",
       "      <td>1982.0</td>\n",
       "      <td>188.98</td>\n",
       "      <td>2.28</td>\n",
       "      <td>0.06</td>\n",
       "      <td>28.52</td>\n",
       "      <td>1.00</td>\n",
       "      <td>0.04</td>\n",
       "      <td>14434.0</td>\n",
       "      <td>0.10</td>\n",
       "      <td>NaN</td>\n",
       "      <td>-19.97</td>\n",
       "      <td>0.13</td>\n",
       "    </tr>\n",
       "    <tr>\n",
       "      <th>3</th>\n",
       "      <td>NASDAQ</td>\n",
       "      <td>United States of America</td>\n",
       "      <td>1983.0</td>\n",
       "      <td>285.43</td>\n",
       "      <td>2.46</td>\n",
       "      <td>0.03</td>\n",
       "      <td>26.19</td>\n",
       "      <td>1.00</td>\n",
       "      <td>0.09</td>\n",
       "      <td>15544.0</td>\n",
       "      <td>0.10</td>\n",
       "      <td>NaN</td>\n",
       "      <td>-51.64</td>\n",
       "      <td>0.11</td>\n",
       "    </tr>\n",
       "    <tr>\n",
       "      <th>4</th>\n",
       "      <td>NASDAQ</td>\n",
       "      <td>United States of America</td>\n",
       "      <td>1984.0</td>\n",
       "      <td>248.89</td>\n",
       "      <td>2.40</td>\n",
       "      <td>0.04</td>\n",
       "      <td>25.88</td>\n",
       "      <td>1.00</td>\n",
       "      <td>0.11</td>\n",
       "      <td>17121.0</td>\n",
       "      <td>0.08</td>\n",
       "      <td>NaN</td>\n",
       "      <td>-102.73</td>\n",
       "      <td>0.12</td>\n",
       "    </tr>\n",
       "    <tr>\n",
       "      <th>...</th>\n",
       "      <td>...</td>\n",
       "      <td>...</td>\n",
       "      <td>...</td>\n",
       "      <td>...</td>\n",
       "      <td>...</td>\n",
       "      <td>...</td>\n",
       "      <td>...</td>\n",
       "      <td>...</td>\n",
       "      <td>...</td>\n",
       "      <td>...</td>\n",
       "      <td>...</td>\n",
       "      <td>...</td>\n",
       "      <td>...</td>\n",
       "      <td>...</td>\n",
       "    </tr>\n",
       "    <tr>\n",
       "      <th>364</th>\n",
       "      <td>IEX 35</td>\n",
       "      <td>Spain</td>\n",
       "      <td>2016.0</td>\n",
       "      <td>9352.10</td>\n",
       "      <td>3.97</td>\n",
       "      <td>NaN</td>\n",
       "      <td>51.97</td>\n",
       "      <td>1.11</td>\n",
       "      <td>0.03</td>\n",
       "      <td>26523.0</td>\n",
       "      <td>0.20</td>\n",
       "      <td>139.01</td>\n",
       "      <td>49.16</td>\n",
       "      <td>0.02</td>\n",
       "    </tr>\n",
       "    <tr>\n",
       "      <th>365</th>\n",
       "      <td>IEX 35</td>\n",
       "      <td>Spain</td>\n",
       "      <td>2017.0</td>\n",
       "      <td>10043.90</td>\n",
       "      <td>4.00</td>\n",
       "      <td>0.02</td>\n",
       "      <td>57.88</td>\n",
       "      <td>1.13</td>\n",
       "      <td>0.03</td>\n",
       "      <td>28170.0</td>\n",
       "      <td>0.17</td>\n",
       "      <td>148.80</td>\n",
       "      <td>47.33</td>\n",
       "      <td>0.02</td>\n",
       "    </tr>\n",
       "    <tr>\n",
       "      <th>366</th>\n",
       "      <td>IEX 35</td>\n",
       "      <td>Spain</td>\n",
       "      <td>2018.0</td>\n",
       "      <td>8539.90</td>\n",
       "      <td>3.93</td>\n",
       "      <td>0.02</td>\n",
       "      <td>49.52</td>\n",
       "      <td>1.18</td>\n",
       "      <td>0.02</td>\n",
       "      <td>30389.0</td>\n",
       "      <td>0.15</td>\n",
       "      <td>158.33</td>\n",
       "      <td>38.70</td>\n",
       "      <td>0.03</td>\n",
       "    </tr>\n",
       "    <tr>\n",
       "      <th>367</th>\n",
       "      <td>IEX 35</td>\n",
       "      <td>Spain</td>\n",
       "      <td>2019.0</td>\n",
       "      <td>9549.20</td>\n",
       "      <td>3.98</td>\n",
       "      <td>0.01</td>\n",
       "      <td>59.88</td>\n",
       "      <td>1.12</td>\n",
       "      <td>0.02</td>\n",
       "      <td>29565.0</td>\n",
       "      <td>0.14</td>\n",
       "      <td>155.49</td>\n",
       "      <td>41.94</td>\n",
       "      <td>0.02</td>\n",
       "    </tr>\n",
       "    <tr>\n",
       "      <th>368</th>\n",
       "      <td>IEX 35</td>\n",
       "      <td>Spain</td>\n",
       "      <td>2020.0</td>\n",
       "      <td>8073.70</td>\n",
       "      <td>3.91</td>\n",
       "      <td>NaN</td>\n",
       "      <td>47.02</td>\n",
       "      <td>1.14</td>\n",
       "      <td>-0.11</td>\n",
       "      <td>27057.0</td>\n",
       "      <td>0.16</td>\n",
       "      <td>143.05</td>\n",
       "      <td>19.10</td>\n",
       "      <td>0.01</td>\n",
       "    </tr>\n",
       "  </tbody>\n",
       "</table>\n",
       "<p>369 rows × 14 columns</p>\n",
       "</div>"
      ],
      "text/plain": [
       "    stock index                   country    year  index price  \\\n",
       "0        NASDAQ  United States of America  1980.0       168.61   \n",
       "1        NASDAQ  United States of America  1981.0       203.15   \n",
       "2        NASDAQ  United States of America  1982.0       188.98   \n",
       "3        NASDAQ  United States of America  1983.0       285.43   \n",
       "4        NASDAQ  United States of America  1984.0       248.89   \n",
       "..          ...                       ...     ...          ...   \n",
       "364      IEX 35                     Spain  2016.0      9352.10   \n",
       "365      IEX 35                     Spain  2017.0     10043.90   \n",
       "366      IEX 35                     Spain  2018.0      8539.90   \n",
       "367      IEX 35                     Spain  2019.0      9549.20   \n",
       "368      IEX 35                     Spain  2020.0      8073.70   \n",
       "\n",
       "     log_indexprice  inflationrate  oil prices  exchange_rate  gdppercent  \\\n",
       "0              2.23           0.14       21.59           1.00        0.09   \n",
       "1              2.31           0.10       31.77           1.00        0.12   \n",
       "2              2.28           0.06       28.52           1.00        0.04   \n",
       "3              2.46           0.03       26.19           1.00        0.09   \n",
       "4              2.40           0.04       25.88           1.00        0.11   \n",
       "..              ...            ...         ...            ...         ...   \n",
       "364            3.97            NaN       51.97           1.11        0.03   \n",
       "365            4.00           0.02       57.88           1.13        0.03   \n",
       "366            3.93           0.02       49.52           1.18        0.02   \n",
       "367            3.98           0.01       59.88           1.12        0.02   \n",
       "368            3.91            NaN       47.02           1.14       -0.11   \n",
       "\n",
       "     percapitaincome  unemploymentrate  manufacturingoutput  tradebalance  \\\n",
       "0            12575.0              0.07                  NaN        -13.06   \n",
       "1            13976.0              0.08                  NaN        -12.52   \n",
       "2            14434.0              0.10                  NaN        -19.97   \n",
       "3            15544.0              0.10                  NaN        -51.64   \n",
       "4            17121.0              0.08                  NaN       -102.73   \n",
       "..               ...               ...                  ...           ...   \n",
       "364          26523.0              0.20               139.01         49.16   \n",
       "365          28170.0              0.17               148.80         47.33   \n",
       "366          30389.0              0.15               158.33         38.70   \n",
       "367          29565.0              0.14               155.49         41.94   \n",
       "368          27057.0              0.16               143.05         19.10   \n",
       "\n",
       "     USTreasury  \n",
       "0          0.11  \n",
       "1          0.14  \n",
       "2          0.13  \n",
       "3          0.11  \n",
       "4          0.12  \n",
       "..          ...  \n",
       "364        0.02  \n",
       "365        0.02  \n",
       "366        0.03  \n",
       "367        0.02  \n",
       "368        0.01  \n",
       "\n",
       "[369 rows x 14 columns]"
      ]
     },
     "execution_count": 3,
     "metadata": {},
     "output_type": "execute_result"
    }
   ],
   "source": [
    "data1"
   ]
  },
  {
   "cell_type": "code",
   "execution_count": 4,
   "id": "dbdf2ebe",
   "metadata": {},
   "outputs": [
    {
     "data": {
      "text/plain": [
       "stock index             0\n",
       "country                 0\n",
       "year                    0\n",
       "index price            52\n",
       "log_indexprice          0\n",
       "inflationrate          43\n",
       "oil prices              0\n",
       "exchange_rate           2\n",
       "gdppercent             19\n",
       "percapitaincome         1\n",
       "unemploymentrate       21\n",
       "manufacturingoutput    91\n",
       "tradebalance            4\n",
       "USTreasury              0\n",
       "dtype: int64"
      ]
     },
     "execution_count": 4,
     "metadata": {},
     "output_type": "execute_result"
    }
   ],
   "source": [
    "data1.isna().sum()"
   ]
  },
  {
   "cell_type": "code",
   "execution_count": 5,
   "id": "50984214",
   "metadata": {},
   "outputs": [
    {
     "data": {
      "text/plain": [
       "stock index             object\n",
       "country                 object\n",
       "year                   float64\n",
       "index price            float64\n",
       "log_indexprice         float64\n",
       "inflationrate          float64\n",
       "oil prices             float64\n",
       "exchange_rate          float64\n",
       "gdppercent             float64\n",
       "percapitaincome        float64\n",
       "unemploymentrate       float64\n",
       "manufacturingoutput    float64\n",
       "tradebalance           float64\n",
       "USTreasury             float64\n",
       "dtype: object"
      ]
     },
     "execution_count": 5,
     "metadata": {},
     "output_type": "execute_result"
    }
   ],
   "source": [
    "data1.dtypes"
   ]
  },
  {
   "cell_type": "markdown",
   "id": "f0eadb1c",
   "metadata": {},
   "source": [
    "# Scrape features from World-Bank"
   ]
  },
  {
   "cell_type": "code",
   "execution_count": null,
   "id": "54dc9252",
   "metadata": {},
   "outputs": [],
   "source": [
    "#from bs4 import BeautifulSoup\n",
    "#import requests"
   ]
  },
  {
   "cell_type": "code",
   "execution_count": null,
   "id": "57171cd4",
   "metadata": {},
   "outputs": [],
   "source": [
    "\n",
    "#url = \"http://api.worldbank.org/v2/country/usa;gbr;ind;jpn;hkg;chn;deu;fra;esp/indicator/NY.GDP.MKTP.KD.ZG;NE.TRD.GNFS.ZS;NY.GDP.MKTP.KD?per_page=1120&date=1980:2020&source=2&format=json\""
   ]
  },
  {
   "cell_type": "code",
   "execution_count": null,
   "id": "fa6645ca",
   "metadata": {},
   "outputs": [],
   "source": [
    "#response = requests.get(url)\n",
    "#response.status_code"
   ]
  },
  {
   "cell_type": "code",
   "execution_count": null,
   "id": "c661f6bd",
   "metadata": {},
   "outputs": [],
   "source": [
    "#soup = BeautifulSoup(response.content, \"html.parser\")"
   ]
  },
  {
   "cell_type": "code",
   "execution_count": null,
   "id": "83794e58",
   "metadata": {},
   "outputs": [],
   "source": [
    "#print(soup)"
   ]
  },
  {
   "cell_type": "code",
   "execution_count": null,
   "id": "89c4b01c",
   "metadata": {},
   "outputs": [],
   "source": [
    "#result = response.json()\n",
    "#result"
   ]
  },
  {
   "cell_type": "code",
   "execution_count": null,
   "id": "8a4bd9db",
   "metadata": {},
   "outputs": [],
   "source": []
  },
  {
   "cell_type": "markdown",
   "id": "89ba926f",
   "metadata": {},
   "source": [
    "#### Alternative and easy way, using wbgapi"
   ]
  },
  {
   "cell_type": "code",
   "execution_count": null,
   "id": "78931abf",
   "metadata": {},
   "outputs": [],
   "source": [
    "#pip install wbgapi"
   ]
  },
  {
   "cell_type": "code",
   "execution_count": 6,
   "id": "948f9e68",
   "metadata": {},
   "outputs": [],
   "source": [
    "import wbgapi as wb"
   ]
  },
  {
   "cell_type": "code",
   "execution_count": 7,
   "id": "9e50ee96",
   "metadata": {},
   "outputs": [],
   "source": [
    "data2 = wb.data.DataFrame(['NY.GDP.MKTP.KD.ZG','NE.TRD.GNFS.ZS', 'NY.GDP.MKTP.KD'], ['USA','GBR','IND','JPN','HKG','CHN','DEU','FRA','ESP'], range(1980, 2021), columns='series')"
   ]
  },
  {
   "cell_type": "code",
   "execution_count": 8,
   "id": "297457f1",
   "metadata": {},
   "outputs": [
    {
     "data": {
      "text/html": [
       "<div>\n",
       "<style scoped>\n",
       "    .dataframe tbody tr th:only-of-type {\n",
       "        vertical-align: middle;\n",
       "    }\n",
       "\n",
       "    .dataframe tbody tr th {\n",
       "        vertical-align: top;\n",
       "    }\n",
       "\n",
       "    .dataframe thead th {\n",
       "        text-align: right;\n",
       "    }\n",
       "</style>\n",
       "<table border=\"1\" class=\"dataframe\">\n",
       "  <thead>\n",
       "    <tr style=\"text-align: right;\">\n",
       "      <th></th>\n",
       "      <th></th>\n",
       "      <th>NE.TRD.GNFS.ZS</th>\n",
       "      <th>NY.GDP.MKTP.KD</th>\n",
       "      <th>NY.GDP.MKTP.KD.ZG</th>\n",
       "    </tr>\n",
       "    <tr>\n",
       "      <th>economy</th>\n",
       "      <th>time</th>\n",
       "      <th></th>\n",
       "      <th></th>\n",
       "      <th></th>\n",
       "    </tr>\n",
       "  </thead>\n",
       "  <tbody>\n",
       "    <tr>\n",
       "      <th rowspan=\"5\" valign=\"top\">CHN</th>\n",
       "      <th>YR1980</th>\n",
       "      <td>12.424849</td>\n",
       "      <td>4.227697e+11</td>\n",
       "      <td>7.834145</td>\n",
       "    </tr>\n",
       "    <tr>\n",
       "      <th>YR1981</th>\n",
       "      <td>14.897182</td>\n",
       "      <td>4.443849e+11</td>\n",
       "      <td>5.112761</td>\n",
       "    </tr>\n",
       "    <tr>\n",
       "      <th>YR1982</th>\n",
       "      <td>14.224787</td>\n",
       "      <td>4.844556e+11</td>\n",
       "      <td>9.017114</td>\n",
       "    </tr>\n",
       "    <tr>\n",
       "      <th>YR1983</th>\n",
       "      <td>13.565794</td>\n",
       "      <td>5.366324e+11</td>\n",
       "      <td>10.770203</td>\n",
       "    </tr>\n",
       "    <tr>\n",
       "      <th>YR1984</th>\n",
       "      <td>15.769878</td>\n",
       "      <td>6.181551e+11</td>\n",
       "      <td>15.191540</td>\n",
       "    </tr>\n",
       "    <tr>\n",
       "      <th>...</th>\n",
       "      <th>...</th>\n",
       "      <td>...</td>\n",
       "      <td>...</td>\n",
       "      <td>...</td>\n",
       "    </tr>\n",
       "    <tr>\n",
       "      <th rowspan=\"5\" valign=\"top\">USA</th>\n",
       "      <th>YR2016</th>\n",
       "      <td>26.586999</td>\n",
       "      <td>1.850960e+13</td>\n",
       "      <td>1.667472</td>\n",
       "    </tr>\n",
       "    <tr>\n",
       "      <th>YR2017</th>\n",
       "      <td>27.279161</td>\n",
       "      <td>1.892457e+13</td>\n",
       "      <td>2.241921</td>\n",
       "    </tr>\n",
       "    <tr>\n",
       "      <th>YR2018</th>\n",
       "      <td>27.610379</td>\n",
       "      <td>1.948197e+13</td>\n",
       "      <td>2.945385</td>\n",
       "    </tr>\n",
       "    <tr>\n",
       "      <th>YR2019</th>\n",
       "      <td>26.451949</td>\n",
       "      <td>1.992898e+13</td>\n",
       "      <td>2.294439</td>\n",
       "    </tr>\n",
       "    <tr>\n",
       "      <th>YR2020</th>\n",
       "      <td>23.383762</td>\n",
       "      <td>1.937738e+13</td>\n",
       "      <td>-2.767803</td>\n",
       "    </tr>\n",
       "  </tbody>\n",
       "</table>\n",
       "<p>369 rows × 3 columns</p>\n",
       "</div>"
      ],
      "text/plain": [
       "                NE.TRD.GNFS.ZS  NY.GDP.MKTP.KD  NY.GDP.MKTP.KD.ZG\n",
       "economy time                                                     \n",
       "CHN     YR1980       12.424849    4.227697e+11           7.834145\n",
       "        YR1981       14.897182    4.443849e+11           5.112761\n",
       "        YR1982       14.224787    4.844556e+11           9.017114\n",
       "        YR1983       13.565794    5.366324e+11          10.770203\n",
       "        YR1984       15.769878    6.181551e+11          15.191540\n",
       "...                        ...             ...                ...\n",
       "USA     YR2016       26.586999    1.850960e+13           1.667472\n",
       "        YR2017       27.279161    1.892457e+13           2.241921\n",
       "        YR2018       27.610379    1.948197e+13           2.945385\n",
       "        YR2019       26.451949    1.992898e+13           2.294439\n",
       "        YR2020       23.383762    1.937738e+13          -2.767803\n",
       "\n",
       "[369 rows x 3 columns]"
      ]
     },
     "execution_count": 8,
     "metadata": {},
     "output_type": "execute_result"
    }
   ],
   "source": [
    "data2"
   ]
  },
  {
   "cell_type": "code",
   "execution_count": 9,
   "id": "28ba7242",
   "metadata": {},
   "outputs": [],
   "source": [
    "data2= data2.reset_index()"
   ]
  },
  {
   "cell_type": "code",
   "execution_count": 10,
   "id": "04099067",
   "metadata": {},
   "outputs": [
    {
     "data": {
      "text/html": [
       "<div>\n",
       "<style scoped>\n",
       "    .dataframe tbody tr th:only-of-type {\n",
       "        vertical-align: middle;\n",
       "    }\n",
       "\n",
       "    .dataframe tbody tr th {\n",
       "        vertical-align: top;\n",
       "    }\n",
       "\n",
       "    .dataframe thead th {\n",
       "        text-align: right;\n",
       "    }\n",
       "</style>\n",
       "<table border=\"1\" class=\"dataframe\">\n",
       "  <thead>\n",
       "    <tr style=\"text-align: right;\">\n",
       "      <th></th>\n",
       "      <th>economy</th>\n",
       "      <th>time</th>\n",
       "      <th>NE.TRD.GNFS.ZS</th>\n",
       "      <th>NY.GDP.MKTP.KD</th>\n",
       "      <th>NY.GDP.MKTP.KD.ZG</th>\n",
       "    </tr>\n",
       "  </thead>\n",
       "  <tbody>\n",
       "    <tr>\n",
       "      <th>0</th>\n",
       "      <td>CHN</td>\n",
       "      <td>YR1980</td>\n",
       "      <td>12.424849</td>\n",
       "      <td>4.227697e+11</td>\n",
       "      <td>7.834145</td>\n",
       "    </tr>\n",
       "    <tr>\n",
       "      <th>1</th>\n",
       "      <td>CHN</td>\n",
       "      <td>YR1981</td>\n",
       "      <td>14.897182</td>\n",
       "      <td>4.443849e+11</td>\n",
       "      <td>5.112761</td>\n",
       "    </tr>\n",
       "    <tr>\n",
       "      <th>2</th>\n",
       "      <td>CHN</td>\n",
       "      <td>YR1982</td>\n",
       "      <td>14.224787</td>\n",
       "      <td>4.844556e+11</td>\n",
       "      <td>9.017114</td>\n",
       "    </tr>\n",
       "    <tr>\n",
       "      <th>3</th>\n",
       "      <td>CHN</td>\n",
       "      <td>YR1983</td>\n",
       "      <td>13.565794</td>\n",
       "      <td>5.366324e+11</td>\n",
       "      <td>10.770203</td>\n",
       "    </tr>\n",
       "    <tr>\n",
       "      <th>4</th>\n",
       "      <td>CHN</td>\n",
       "      <td>YR1984</td>\n",
       "      <td>15.769878</td>\n",
       "      <td>6.181551e+11</td>\n",
       "      <td>15.191540</td>\n",
       "    </tr>\n",
       "    <tr>\n",
       "      <th>...</th>\n",
       "      <td>...</td>\n",
       "      <td>...</td>\n",
       "      <td>...</td>\n",
       "      <td>...</td>\n",
       "      <td>...</td>\n",
       "    </tr>\n",
       "    <tr>\n",
       "      <th>364</th>\n",
       "      <td>USA</td>\n",
       "      <td>YR2016</td>\n",
       "      <td>26.586999</td>\n",
       "      <td>1.850960e+13</td>\n",
       "      <td>1.667472</td>\n",
       "    </tr>\n",
       "    <tr>\n",
       "      <th>365</th>\n",
       "      <td>USA</td>\n",
       "      <td>YR2017</td>\n",
       "      <td>27.279161</td>\n",
       "      <td>1.892457e+13</td>\n",
       "      <td>2.241921</td>\n",
       "    </tr>\n",
       "    <tr>\n",
       "      <th>366</th>\n",
       "      <td>USA</td>\n",
       "      <td>YR2018</td>\n",
       "      <td>27.610379</td>\n",
       "      <td>1.948197e+13</td>\n",
       "      <td>2.945385</td>\n",
       "    </tr>\n",
       "    <tr>\n",
       "      <th>367</th>\n",
       "      <td>USA</td>\n",
       "      <td>YR2019</td>\n",
       "      <td>26.451949</td>\n",
       "      <td>1.992898e+13</td>\n",
       "      <td>2.294439</td>\n",
       "    </tr>\n",
       "    <tr>\n",
       "      <th>368</th>\n",
       "      <td>USA</td>\n",
       "      <td>YR2020</td>\n",
       "      <td>23.383762</td>\n",
       "      <td>1.937738e+13</td>\n",
       "      <td>-2.767803</td>\n",
       "    </tr>\n",
       "  </tbody>\n",
       "</table>\n",
       "<p>369 rows × 5 columns</p>\n",
       "</div>"
      ],
      "text/plain": [
       "    economy    time  NE.TRD.GNFS.ZS  NY.GDP.MKTP.KD  NY.GDP.MKTP.KD.ZG\n",
       "0       CHN  YR1980       12.424849    4.227697e+11           7.834145\n",
       "1       CHN  YR1981       14.897182    4.443849e+11           5.112761\n",
       "2       CHN  YR1982       14.224787    4.844556e+11           9.017114\n",
       "3       CHN  YR1983       13.565794    5.366324e+11          10.770203\n",
       "4       CHN  YR1984       15.769878    6.181551e+11          15.191540\n",
       "..      ...     ...             ...             ...                ...\n",
       "364     USA  YR2016       26.586999    1.850960e+13           1.667472\n",
       "365     USA  YR2017       27.279161    1.892457e+13           2.241921\n",
       "366     USA  YR2018       27.610379    1.948197e+13           2.945385\n",
       "367     USA  YR2019       26.451949    1.992898e+13           2.294439\n",
       "368     USA  YR2020       23.383762    1.937738e+13          -2.767803\n",
       "\n",
       "[369 rows x 5 columns]"
      ]
     },
     "execution_count": 10,
     "metadata": {},
     "output_type": "execute_result"
    }
   ],
   "source": [
    "data2"
   ]
  },
  {
   "cell_type": "code",
   "execution_count": 11,
   "id": "9617cc76",
   "metadata": {},
   "outputs": [
    {
     "data": {
      "text/plain": [
       "economy              0\n",
       "time                 0\n",
       "NE.TRD.GNFS.ZS       0\n",
       "NY.GDP.MKTP.KD       0\n",
       "NY.GDP.MKTP.KD.ZG    0\n",
       "dtype: int64"
      ]
     },
     "execution_count": 11,
     "metadata": {},
     "output_type": "execute_result"
    }
   ],
   "source": [
    "data2.isna().sum()"
   ]
  },
  {
   "cell_type": "code",
   "execution_count": 12,
   "id": "2392593b",
   "metadata": {},
   "outputs": [
    {
     "data": {
      "text/plain": [
       "economy               object\n",
       "time                  object\n",
       "NE.TRD.GNFS.ZS       float64\n",
       "NY.GDP.MKTP.KD       float64\n",
       "NY.GDP.MKTP.KD.ZG    float64\n",
       "dtype: object"
      ]
     },
     "execution_count": 12,
     "metadata": {},
     "output_type": "execute_result"
    }
   ],
   "source": [
    "data2.dtypes"
   ]
  },
  {
   "cell_type": "markdown",
   "id": "ae9c1da0",
   "metadata": {},
   "source": [
    "# Merge the two datasets   "
   ]
  },
  {
   "cell_type": "code",
   "execution_count": 13,
   "id": "584fd0ce",
   "metadata": {},
   "outputs": [
    {
     "data": {
      "text/plain": [
       "Index(['stock index', 'country', 'year', 'index price', 'log_indexprice',\n",
       "       'inflationrate', 'oil prices', 'exchange_rate', 'gdppercent',\n",
       "       'percapitaincome', 'unemploymentrate', 'manufacturingoutput',\n",
       "       'tradebalance', 'USTreasury'],\n",
       "      dtype='object')"
      ]
     },
     "execution_count": 13,
     "metadata": {},
     "output_type": "execute_result"
    }
   ],
   "source": [
    "data1.columns"
   ]
  },
  {
   "cell_type": "code",
   "execution_count": 14,
   "id": "cacac60a",
   "metadata": {},
   "outputs": [
    {
     "data": {
      "text/plain": [
       "Index(['economy', 'time', 'NE.TRD.GNFS.ZS', 'NY.GDP.MKTP.KD',\n",
       "       'NY.GDP.MKTP.KD.ZG'],\n",
       "      dtype='object')"
      ]
     },
     "execution_count": 14,
     "metadata": {},
     "output_type": "execute_result"
    }
   ],
   "source": [
    "data2.columns"
   ]
  },
  {
   "cell_type": "markdown",
   "id": "f5e2da13",
   "metadata": {},
   "source": [
    "#### To merge the two datasets, some alterations should be done "
   ]
  },
  {
   "cell_type": "markdown",
   "id": "1c736c5f",
   "metadata": {},
   "source": [
    "##### Remove 'YR' in column time and changing the type to float "
   ]
  },
  {
   "cell_type": "code",
   "execution_count": 15,
   "id": "b44795cb",
   "metadata": {},
   "outputs": [],
   "source": [
    "data2[\"time\"] = data2[\"time\"].replace({'YR':''}, regex=True)\n",
    "data2['time']= data2['time'].astype(object).astype(float)"
   ]
  },
  {
   "cell_type": "code",
   "execution_count": 16,
   "id": "9798d8f3",
   "metadata": {},
   "outputs": [
    {
     "data": {
      "text/html": [
       "<div>\n",
       "<style scoped>\n",
       "    .dataframe tbody tr th:only-of-type {\n",
       "        vertical-align: middle;\n",
       "    }\n",
       "\n",
       "    .dataframe tbody tr th {\n",
       "        vertical-align: top;\n",
       "    }\n",
       "\n",
       "    .dataframe thead th {\n",
       "        text-align: right;\n",
       "    }\n",
       "</style>\n",
       "<table border=\"1\" class=\"dataframe\">\n",
       "  <thead>\n",
       "    <tr style=\"text-align: right;\">\n",
       "      <th></th>\n",
       "      <th>economy</th>\n",
       "      <th>time</th>\n",
       "      <th>NE.TRD.GNFS.ZS</th>\n",
       "      <th>NY.GDP.MKTP.KD</th>\n",
       "      <th>NY.GDP.MKTP.KD.ZG</th>\n",
       "    </tr>\n",
       "  </thead>\n",
       "  <tbody>\n",
       "    <tr>\n",
       "      <th>0</th>\n",
       "      <td>CHN</td>\n",
       "      <td>1980.0</td>\n",
       "      <td>12.424849</td>\n",
       "      <td>4.227697e+11</td>\n",
       "      <td>7.834145</td>\n",
       "    </tr>\n",
       "    <tr>\n",
       "      <th>1</th>\n",
       "      <td>CHN</td>\n",
       "      <td>1981.0</td>\n",
       "      <td>14.897182</td>\n",
       "      <td>4.443849e+11</td>\n",
       "      <td>5.112761</td>\n",
       "    </tr>\n",
       "    <tr>\n",
       "      <th>2</th>\n",
       "      <td>CHN</td>\n",
       "      <td>1982.0</td>\n",
       "      <td>14.224787</td>\n",
       "      <td>4.844556e+11</td>\n",
       "      <td>9.017114</td>\n",
       "    </tr>\n",
       "    <tr>\n",
       "      <th>3</th>\n",
       "      <td>CHN</td>\n",
       "      <td>1983.0</td>\n",
       "      <td>13.565794</td>\n",
       "      <td>5.366324e+11</td>\n",
       "      <td>10.770203</td>\n",
       "    </tr>\n",
       "    <tr>\n",
       "      <th>4</th>\n",
       "      <td>CHN</td>\n",
       "      <td>1984.0</td>\n",
       "      <td>15.769878</td>\n",
       "      <td>6.181551e+11</td>\n",
       "      <td>15.191540</td>\n",
       "    </tr>\n",
       "    <tr>\n",
       "      <th>...</th>\n",
       "      <td>...</td>\n",
       "      <td>...</td>\n",
       "      <td>...</td>\n",
       "      <td>...</td>\n",
       "      <td>...</td>\n",
       "    </tr>\n",
       "    <tr>\n",
       "      <th>364</th>\n",
       "      <td>USA</td>\n",
       "      <td>2016.0</td>\n",
       "      <td>26.586999</td>\n",
       "      <td>1.850960e+13</td>\n",
       "      <td>1.667472</td>\n",
       "    </tr>\n",
       "    <tr>\n",
       "      <th>365</th>\n",
       "      <td>USA</td>\n",
       "      <td>2017.0</td>\n",
       "      <td>27.279161</td>\n",
       "      <td>1.892457e+13</td>\n",
       "      <td>2.241921</td>\n",
       "    </tr>\n",
       "    <tr>\n",
       "      <th>366</th>\n",
       "      <td>USA</td>\n",
       "      <td>2018.0</td>\n",
       "      <td>27.610379</td>\n",
       "      <td>1.948197e+13</td>\n",
       "      <td>2.945385</td>\n",
       "    </tr>\n",
       "    <tr>\n",
       "      <th>367</th>\n",
       "      <td>USA</td>\n",
       "      <td>2019.0</td>\n",
       "      <td>26.451949</td>\n",
       "      <td>1.992898e+13</td>\n",
       "      <td>2.294439</td>\n",
       "    </tr>\n",
       "    <tr>\n",
       "      <th>368</th>\n",
       "      <td>USA</td>\n",
       "      <td>2020.0</td>\n",
       "      <td>23.383762</td>\n",
       "      <td>1.937738e+13</td>\n",
       "      <td>-2.767803</td>\n",
       "    </tr>\n",
       "  </tbody>\n",
       "</table>\n",
       "<p>369 rows × 5 columns</p>\n",
       "</div>"
      ],
      "text/plain": [
       "    economy    time  NE.TRD.GNFS.ZS  NY.GDP.MKTP.KD  NY.GDP.MKTP.KD.ZG\n",
       "0       CHN  1980.0       12.424849    4.227697e+11           7.834145\n",
       "1       CHN  1981.0       14.897182    4.443849e+11           5.112761\n",
       "2       CHN  1982.0       14.224787    4.844556e+11           9.017114\n",
       "3       CHN  1983.0       13.565794    5.366324e+11          10.770203\n",
       "4       CHN  1984.0       15.769878    6.181551e+11          15.191540\n",
       "..      ...     ...             ...             ...                ...\n",
       "364     USA  2016.0       26.586999    1.850960e+13           1.667472\n",
       "365     USA  2017.0       27.279161    1.892457e+13           2.241921\n",
       "366     USA  2018.0       27.610379    1.948197e+13           2.945385\n",
       "367     USA  2019.0       26.451949    1.992898e+13           2.294439\n",
       "368     USA  2020.0       23.383762    1.937738e+13          -2.767803\n",
       "\n",
       "[369 rows x 5 columns]"
      ]
     },
     "execution_count": 16,
     "metadata": {},
     "output_type": "execute_result"
    }
   ],
   "source": [
    "data2"
   ]
  },
  {
   "cell_type": "code",
   "execution_count": 17,
   "id": "1609c103",
   "metadata": {},
   "outputs": [
    {
     "data": {
      "text/plain": [
       "economy               object\n",
       "time                 float64\n",
       "NE.TRD.GNFS.ZS       float64\n",
       "NY.GDP.MKTP.KD       float64\n",
       "NY.GDP.MKTP.KD.ZG    float64\n",
       "dtype: object"
      ]
     },
     "execution_count": 17,
     "metadata": {},
     "output_type": "execute_result"
    }
   ],
   "source": [
    "data2.dtypes"
   ]
  },
  {
   "cell_type": "markdown",
   "id": "1b76911d",
   "metadata": {},
   "source": [
    "##### Change 'economy' column to match countries' names in column 'country'"
   ]
  },
  {
   "cell_type": "code",
   "execution_count": 18,
   "id": "1f8c95df",
   "metadata": {},
   "outputs": [],
   "source": [
    "data2['economy'] = data2['economy'].replace({'CHN': 'China', 'USA': 'United States of America', 'GBR': 'United Kingdom',\n",
    "                                             'IND': 'India', 'JPN': 'Japan', 'HKG': 'Hong Kong', 'DEU': 'Germany', \n",
    "                                             'FRA': 'France','ESP': 'Spain'})"
   ]
  },
  {
   "cell_type": "code",
   "execution_count": 19,
   "id": "501b67e9",
   "metadata": {},
   "outputs": [
    {
     "data": {
      "text/html": [
       "<div>\n",
       "<style scoped>\n",
       "    .dataframe tbody tr th:only-of-type {\n",
       "        vertical-align: middle;\n",
       "    }\n",
       "\n",
       "    .dataframe tbody tr th {\n",
       "        vertical-align: top;\n",
       "    }\n",
       "\n",
       "    .dataframe thead th {\n",
       "        text-align: right;\n",
       "    }\n",
       "</style>\n",
       "<table border=\"1\" class=\"dataframe\">\n",
       "  <thead>\n",
       "    <tr style=\"text-align: right;\">\n",
       "      <th></th>\n",
       "      <th>economy</th>\n",
       "      <th>time</th>\n",
       "      <th>NE.TRD.GNFS.ZS</th>\n",
       "      <th>NY.GDP.MKTP.KD</th>\n",
       "      <th>NY.GDP.MKTP.KD.ZG</th>\n",
       "    </tr>\n",
       "  </thead>\n",
       "  <tbody>\n",
       "    <tr>\n",
       "      <th>0</th>\n",
       "      <td>China</td>\n",
       "      <td>1980.0</td>\n",
       "      <td>12.424849</td>\n",
       "      <td>4.227697e+11</td>\n",
       "      <td>7.834145</td>\n",
       "    </tr>\n",
       "    <tr>\n",
       "      <th>1</th>\n",
       "      <td>China</td>\n",
       "      <td>1981.0</td>\n",
       "      <td>14.897182</td>\n",
       "      <td>4.443849e+11</td>\n",
       "      <td>5.112761</td>\n",
       "    </tr>\n",
       "    <tr>\n",
       "      <th>2</th>\n",
       "      <td>China</td>\n",
       "      <td>1982.0</td>\n",
       "      <td>14.224787</td>\n",
       "      <td>4.844556e+11</td>\n",
       "      <td>9.017114</td>\n",
       "    </tr>\n",
       "    <tr>\n",
       "      <th>3</th>\n",
       "      <td>China</td>\n",
       "      <td>1983.0</td>\n",
       "      <td>13.565794</td>\n",
       "      <td>5.366324e+11</td>\n",
       "      <td>10.770203</td>\n",
       "    </tr>\n",
       "    <tr>\n",
       "      <th>4</th>\n",
       "      <td>China</td>\n",
       "      <td>1984.0</td>\n",
       "      <td>15.769878</td>\n",
       "      <td>6.181551e+11</td>\n",
       "      <td>15.191540</td>\n",
       "    </tr>\n",
       "    <tr>\n",
       "      <th>...</th>\n",
       "      <td>...</td>\n",
       "      <td>...</td>\n",
       "      <td>...</td>\n",
       "      <td>...</td>\n",
       "      <td>...</td>\n",
       "    </tr>\n",
       "    <tr>\n",
       "      <th>364</th>\n",
       "      <td>United States of America</td>\n",
       "      <td>2016.0</td>\n",
       "      <td>26.586999</td>\n",
       "      <td>1.850960e+13</td>\n",
       "      <td>1.667472</td>\n",
       "    </tr>\n",
       "    <tr>\n",
       "      <th>365</th>\n",
       "      <td>United States of America</td>\n",
       "      <td>2017.0</td>\n",
       "      <td>27.279161</td>\n",
       "      <td>1.892457e+13</td>\n",
       "      <td>2.241921</td>\n",
       "    </tr>\n",
       "    <tr>\n",
       "      <th>366</th>\n",
       "      <td>United States of America</td>\n",
       "      <td>2018.0</td>\n",
       "      <td>27.610379</td>\n",
       "      <td>1.948197e+13</td>\n",
       "      <td>2.945385</td>\n",
       "    </tr>\n",
       "    <tr>\n",
       "      <th>367</th>\n",
       "      <td>United States of America</td>\n",
       "      <td>2019.0</td>\n",
       "      <td>26.451949</td>\n",
       "      <td>1.992898e+13</td>\n",
       "      <td>2.294439</td>\n",
       "    </tr>\n",
       "    <tr>\n",
       "      <th>368</th>\n",
       "      <td>United States of America</td>\n",
       "      <td>2020.0</td>\n",
       "      <td>23.383762</td>\n",
       "      <td>1.937738e+13</td>\n",
       "      <td>-2.767803</td>\n",
       "    </tr>\n",
       "  </tbody>\n",
       "</table>\n",
       "<p>369 rows × 5 columns</p>\n",
       "</div>"
      ],
      "text/plain": [
       "                      economy    time  NE.TRD.GNFS.ZS  NY.GDP.MKTP.KD  \\\n",
       "0                       China  1980.0       12.424849    4.227697e+11   \n",
       "1                       China  1981.0       14.897182    4.443849e+11   \n",
       "2                       China  1982.0       14.224787    4.844556e+11   \n",
       "3                       China  1983.0       13.565794    5.366324e+11   \n",
       "4                       China  1984.0       15.769878    6.181551e+11   \n",
       "..                        ...     ...             ...             ...   \n",
       "364  United States of America  2016.0       26.586999    1.850960e+13   \n",
       "365  United States of America  2017.0       27.279161    1.892457e+13   \n",
       "366  United States of America  2018.0       27.610379    1.948197e+13   \n",
       "367  United States of America  2019.0       26.451949    1.992898e+13   \n",
       "368  United States of America  2020.0       23.383762    1.937738e+13   \n",
       "\n",
       "     NY.GDP.MKTP.KD.ZG  \n",
       "0             7.834145  \n",
       "1             5.112761  \n",
       "2             9.017114  \n",
       "3            10.770203  \n",
       "4            15.191540  \n",
       "..                 ...  \n",
       "364           1.667472  \n",
       "365           2.241921  \n",
       "366           2.945385  \n",
       "367           2.294439  \n",
       "368          -2.767803  \n",
       "\n",
       "[369 rows x 5 columns]"
      ]
     },
     "execution_count": 19,
     "metadata": {},
     "output_type": "execute_result"
    }
   ],
   "source": [
    "data2"
   ]
  },
  {
   "cell_type": "markdown",
   "id": "d102b8a4",
   "metadata": {},
   "source": [
    "##### Merge the two datasets"
   ]
  },
  {
   "cell_type": "code",
   "execution_count": 20,
   "id": "187aa0fc",
   "metadata": {},
   "outputs": [],
   "source": [
    "merged_data = data1.merge(data2, left_on=[\"country\", \"year\"], right_on=[\"economy\", \"time\"])"
   ]
  },
  {
   "cell_type": "code",
   "execution_count": 21,
   "id": "ee63ffa5",
   "metadata": {},
   "outputs": [
    {
     "data": {
      "text/html": [
       "<div>\n",
       "<style scoped>\n",
       "    .dataframe tbody tr th:only-of-type {\n",
       "        vertical-align: middle;\n",
       "    }\n",
       "\n",
       "    .dataframe tbody tr th {\n",
       "        vertical-align: top;\n",
       "    }\n",
       "\n",
       "    .dataframe thead th {\n",
       "        text-align: right;\n",
       "    }\n",
       "</style>\n",
       "<table border=\"1\" class=\"dataframe\">\n",
       "  <thead>\n",
       "    <tr style=\"text-align: right;\">\n",
       "      <th></th>\n",
       "      <th>stock index</th>\n",
       "      <th>country</th>\n",
       "      <th>year</th>\n",
       "      <th>index price</th>\n",
       "      <th>log_indexprice</th>\n",
       "      <th>inflationrate</th>\n",
       "      <th>oil prices</th>\n",
       "      <th>exchange_rate</th>\n",
       "      <th>gdppercent</th>\n",
       "      <th>percapitaincome</th>\n",
       "      <th>unemploymentrate</th>\n",
       "      <th>manufacturingoutput</th>\n",
       "      <th>tradebalance</th>\n",
       "      <th>USTreasury</th>\n",
       "      <th>economy</th>\n",
       "      <th>time</th>\n",
       "      <th>NE.TRD.GNFS.ZS</th>\n",
       "      <th>NY.GDP.MKTP.KD</th>\n",
       "      <th>NY.GDP.MKTP.KD.ZG</th>\n",
       "    </tr>\n",
       "  </thead>\n",
       "  <tbody>\n",
       "    <tr>\n",
       "      <th>0</th>\n",
       "      <td>NASDAQ</td>\n",
       "      <td>United States of America</td>\n",
       "      <td>1980.0</td>\n",
       "      <td>168.61</td>\n",
       "      <td>2.23</td>\n",
       "      <td>0.14</td>\n",
       "      <td>21.59</td>\n",
       "      <td>1.00</td>\n",
       "      <td>0.09</td>\n",
       "      <td>12575.0</td>\n",
       "      <td>0.07</td>\n",
       "      <td>NaN</td>\n",
       "      <td>-13.06</td>\n",
       "      <td>0.11</td>\n",
       "      <td>United States of America</td>\n",
       "      <td>1980.0</td>\n",
       "      <td>20.109845</td>\n",
       "      <td>7.080770e+12</td>\n",
       "      <td>-0.256750</td>\n",
       "    </tr>\n",
       "    <tr>\n",
       "      <th>1</th>\n",
       "      <td>NASDAQ</td>\n",
       "      <td>United States of America</td>\n",
       "      <td>1981.0</td>\n",
       "      <td>203.15</td>\n",
       "      <td>2.31</td>\n",
       "      <td>0.10</td>\n",
       "      <td>31.77</td>\n",
       "      <td>1.00</td>\n",
       "      <td>0.12</td>\n",
       "      <td>13976.0</td>\n",
       "      <td>0.08</td>\n",
       "      <td>NaN</td>\n",
       "      <td>-12.52</td>\n",
       "      <td>0.14</td>\n",
       "      <td>United States of America</td>\n",
       "      <td>1981.0</td>\n",
       "      <td>19.425913</td>\n",
       "      <td>7.260460e+12</td>\n",
       "      <td>2.537719</td>\n",
       "    </tr>\n",
       "    <tr>\n",
       "      <th>2</th>\n",
       "      <td>NASDAQ</td>\n",
       "      <td>United States of America</td>\n",
       "      <td>1982.0</td>\n",
       "      <td>188.98</td>\n",
       "      <td>2.28</td>\n",
       "      <td>0.06</td>\n",
       "      <td>28.52</td>\n",
       "      <td>1.00</td>\n",
       "      <td>0.04</td>\n",
       "      <td>14434.0</td>\n",
       "      <td>0.10</td>\n",
       "      <td>NaN</td>\n",
       "      <td>-19.97</td>\n",
       "      <td>0.13</td>\n",
       "      <td>United States of America</td>\n",
       "      <td>1982.0</td>\n",
       "      <td>17.536812</td>\n",
       "      <td>7.129562e+12</td>\n",
       "      <td>-1.802887</td>\n",
       "    </tr>\n",
       "    <tr>\n",
       "      <th>3</th>\n",
       "      <td>NASDAQ</td>\n",
       "      <td>United States of America</td>\n",
       "      <td>1983.0</td>\n",
       "      <td>285.43</td>\n",
       "      <td>2.46</td>\n",
       "      <td>0.03</td>\n",
       "      <td>26.19</td>\n",
       "      <td>1.00</td>\n",
       "      <td>0.09</td>\n",
       "      <td>15544.0</td>\n",
       "      <td>0.10</td>\n",
       "      <td>NaN</td>\n",
       "      <td>-51.64</td>\n",
       "      <td>0.11</td>\n",
       "      <td>United States of America</td>\n",
       "      <td>1983.0</td>\n",
       "      <td>16.665593</td>\n",
       "      <td>7.456375e+12</td>\n",
       "      <td>4.583913</td>\n",
       "    </tr>\n",
       "    <tr>\n",
       "      <th>4</th>\n",
       "      <td>NASDAQ</td>\n",
       "      <td>United States of America</td>\n",
       "      <td>1984.0</td>\n",
       "      <td>248.89</td>\n",
       "      <td>2.40</td>\n",
       "      <td>0.04</td>\n",
       "      <td>25.88</td>\n",
       "      <td>1.00</td>\n",
       "      <td>0.11</td>\n",
       "      <td>17121.0</td>\n",
       "      <td>0.08</td>\n",
       "      <td>NaN</td>\n",
       "      <td>-102.73</td>\n",
       "      <td>0.12</td>\n",
       "      <td>United States of America</td>\n",
       "      <td>1984.0</td>\n",
       "      <td>17.522407</td>\n",
       "      <td>7.995965e+12</td>\n",
       "      <td>7.236633</td>\n",
       "    </tr>\n",
       "    <tr>\n",
       "      <th>...</th>\n",
       "      <td>...</td>\n",
       "      <td>...</td>\n",
       "      <td>...</td>\n",
       "      <td>...</td>\n",
       "      <td>...</td>\n",
       "      <td>...</td>\n",
       "      <td>...</td>\n",
       "      <td>...</td>\n",
       "      <td>...</td>\n",
       "      <td>...</td>\n",
       "      <td>...</td>\n",
       "      <td>...</td>\n",
       "      <td>...</td>\n",
       "      <td>...</td>\n",
       "      <td>...</td>\n",
       "      <td>...</td>\n",
       "      <td>...</td>\n",
       "      <td>...</td>\n",
       "      <td>...</td>\n",
       "    </tr>\n",
       "    <tr>\n",
       "      <th>364</th>\n",
       "      <td>IEX 35</td>\n",
       "      <td>Spain</td>\n",
       "      <td>2016.0</td>\n",
       "      <td>9352.10</td>\n",
       "      <td>3.97</td>\n",
       "      <td>NaN</td>\n",
       "      <td>51.97</td>\n",
       "      <td>1.11</td>\n",
       "      <td>0.03</td>\n",
       "      <td>26523.0</td>\n",
       "      <td>0.20</td>\n",
       "      <td>139.01</td>\n",
       "      <td>49.16</td>\n",
       "      <td>0.02</td>\n",
       "      <td>Spain</td>\n",
       "      <td>2016.0</td>\n",
       "      <td>63.739883</td>\n",
       "      <td>1.232494e+12</td>\n",
       "      <td>3.037774</td>\n",
       "    </tr>\n",
       "    <tr>\n",
       "      <th>365</th>\n",
       "      <td>IEX 35</td>\n",
       "      <td>Spain</td>\n",
       "      <td>2017.0</td>\n",
       "      <td>10043.90</td>\n",
       "      <td>4.00</td>\n",
       "      <td>0.02</td>\n",
       "      <td>57.88</td>\n",
       "      <td>1.13</td>\n",
       "      <td>0.03</td>\n",
       "      <td>28170.0</td>\n",
       "      <td>0.17</td>\n",
       "      <td>148.80</td>\n",
       "      <td>47.33</td>\n",
       "      <td>0.02</td>\n",
       "      <td>Spain</td>\n",
       "      <td>2017.0</td>\n",
       "      <td>66.657061</td>\n",
       "      <td>1.269170e+12</td>\n",
       "      <td>2.975761</td>\n",
       "    </tr>\n",
       "    <tr>\n",
       "      <th>366</th>\n",
       "      <td>IEX 35</td>\n",
       "      <td>Spain</td>\n",
       "      <td>2018.0</td>\n",
       "      <td>8539.90</td>\n",
       "      <td>3.93</td>\n",
       "      <td>0.02</td>\n",
       "      <td>49.52</td>\n",
       "      <td>1.18</td>\n",
       "      <td>0.02</td>\n",
       "      <td>30389.0</td>\n",
       "      <td>0.15</td>\n",
       "      <td>158.33</td>\n",
       "      <td>38.70</td>\n",
       "      <td>0.03</td>\n",
       "      <td>Spain</td>\n",
       "      <td>2018.0</td>\n",
       "      <td>67.574940</td>\n",
       "      <td>1.298163e+12</td>\n",
       "      <td>2.284469</td>\n",
       "    </tr>\n",
       "    <tr>\n",
       "      <th>367</th>\n",
       "      <td>IEX 35</td>\n",
       "      <td>Spain</td>\n",
       "      <td>2019.0</td>\n",
       "      <td>9549.20</td>\n",
       "      <td>3.98</td>\n",
       "      <td>0.01</td>\n",
       "      <td>59.88</td>\n",
       "      <td>1.12</td>\n",
       "      <td>0.02</td>\n",
       "      <td>29565.0</td>\n",
       "      <td>0.14</td>\n",
       "      <td>155.49</td>\n",
       "      <td>41.94</td>\n",
       "      <td>0.02</td>\n",
       "      <td>Spain</td>\n",
       "      <td>2019.0</td>\n",
       "      <td>66.873891</td>\n",
       "      <td>1.323918e+12</td>\n",
       "      <td>1.983966</td>\n",
       "    </tr>\n",
       "    <tr>\n",
       "      <th>368</th>\n",
       "      <td>IEX 35</td>\n",
       "      <td>Spain</td>\n",
       "      <td>2020.0</td>\n",
       "      <td>8073.70</td>\n",
       "      <td>3.91</td>\n",
       "      <td>NaN</td>\n",
       "      <td>47.02</td>\n",
       "      <td>1.14</td>\n",
       "      <td>-0.11</td>\n",
       "      <td>27057.0</td>\n",
       "      <td>0.16</td>\n",
       "      <td>143.05</td>\n",
       "      <td>19.10</td>\n",
       "      <td>0.01</td>\n",
       "      <td>Spain</td>\n",
       "      <td>2020.0</td>\n",
       "      <td>60.143168</td>\n",
       "      <td>1.173979e+12</td>\n",
       "      <td>-11.325438</td>\n",
       "    </tr>\n",
       "  </tbody>\n",
       "</table>\n",
       "<p>369 rows × 19 columns</p>\n",
       "</div>"
      ],
      "text/plain": [
       "    stock index                   country    year  index price  \\\n",
       "0        NASDAQ  United States of America  1980.0       168.61   \n",
       "1        NASDAQ  United States of America  1981.0       203.15   \n",
       "2        NASDAQ  United States of America  1982.0       188.98   \n",
       "3        NASDAQ  United States of America  1983.0       285.43   \n",
       "4        NASDAQ  United States of America  1984.0       248.89   \n",
       "..          ...                       ...     ...          ...   \n",
       "364      IEX 35                     Spain  2016.0      9352.10   \n",
       "365      IEX 35                     Spain  2017.0     10043.90   \n",
       "366      IEX 35                     Spain  2018.0      8539.90   \n",
       "367      IEX 35                     Spain  2019.0      9549.20   \n",
       "368      IEX 35                     Spain  2020.0      8073.70   \n",
       "\n",
       "     log_indexprice  inflationrate  oil prices  exchange_rate  gdppercent  \\\n",
       "0              2.23           0.14       21.59           1.00        0.09   \n",
       "1              2.31           0.10       31.77           1.00        0.12   \n",
       "2              2.28           0.06       28.52           1.00        0.04   \n",
       "3              2.46           0.03       26.19           1.00        0.09   \n",
       "4              2.40           0.04       25.88           1.00        0.11   \n",
       "..              ...            ...         ...            ...         ...   \n",
       "364            3.97            NaN       51.97           1.11        0.03   \n",
       "365            4.00           0.02       57.88           1.13        0.03   \n",
       "366            3.93           0.02       49.52           1.18        0.02   \n",
       "367            3.98           0.01       59.88           1.12        0.02   \n",
       "368            3.91            NaN       47.02           1.14       -0.11   \n",
       "\n",
       "     percapitaincome  unemploymentrate  manufacturingoutput  tradebalance  \\\n",
       "0            12575.0              0.07                  NaN        -13.06   \n",
       "1            13976.0              0.08                  NaN        -12.52   \n",
       "2            14434.0              0.10                  NaN        -19.97   \n",
       "3            15544.0              0.10                  NaN        -51.64   \n",
       "4            17121.0              0.08                  NaN       -102.73   \n",
       "..               ...               ...                  ...           ...   \n",
       "364          26523.0              0.20               139.01         49.16   \n",
       "365          28170.0              0.17               148.80         47.33   \n",
       "366          30389.0              0.15               158.33         38.70   \n",
       "367          29565.0              0.14               155.49         41.94   \n",
       "368          27057.0              0.16               143.05         19.10   \n",
       "\n",
       "     USTreasury                   economy    time  NE.TRD.GNFS.ZS  \\\n",
       "0          0.11  United States of America  1980.0       20.109845   \n",
       "1          0.14  United States of America  1981.0       19.425913   \n",
       "2          0.13  United States of America  1982.0       17.536812   \n",
       "3          0.11  United States of America  1983.0       16.665593   \n",
       "4          0.12  United States of America  1984.0       17.522407   \n",
       "..          ...                       ...     ...             ...   \n",
       "364        0.02                     Spain  2016.0       63.739883   \n",
       "365        0.02                     Spain  2017.0       66.657061   \n",
       "366        0.03                     Spain  2018.0       67.574940   \n",
       "367        0.02                     Spain  2019.0       66.873891   \n",
       "368        0.01                     Spain  2020.0       60.143168   \n",
       "\n",
       "     NY.GDP.MKTP.KD  NY.GDP.MKTP.KD.ZG  \n",
       "0      7.080770e+12          -0.256750  \n",
       "1      7.260460e+12           2.537719  \n",
       "2      7.129562e+12          -1.802887  \n",
       "3      7.456375e+12           4.583913  \n",
       "4      7.995965e+12           7.236633  \n",
       "..              ...                ...  \n",
       "364    1.232494e+12           3.037774  \n",
       "365    1.269170e+12           2.975761  \n",
       "366    1.298163e+12           2.284469  \n",
       "367    1.323918e+12           1.983966  \n",
       "368    1.173979e+12         -11.325438  \n",
       "\n",
       "[369 rows x 19 columns]"
      ]
     },
     "execution_count": 21,
     "metadata": {},
     "output_type": "execute_result"
    }
   ],
   "source": [
    "merged_data"
   ]
  },
  {
   "cell_type": "markdown",
   "id": "450d7cd2",
   "metadata": {},
   "source": [
    "# Cleaning data and dealing with NaN values"
   ]
  },
  {
   "cell_type": "code",
   "execution_count": 22,
   "id": "796abae1",
   "metadata": {},
   "outputs": [
    {
     "name": "stdout",
     "output_type": "stream",
     "text": [
      "(369, 19)\n",
      "<class 'pandas.core.frame.DataFrame'>\n",
      "Int64Index: 369 entries, 0 to 368\n",
      "Data columns (total 19 columns):\n",
      " #   Column               Non-Null Count  Dtype  \n",
      "---  ------               --------------  -----  \n",
      " 0   stock index          369 non-null    object \n",
      " 1   country              369 non-null    object \n",
      " 2   year                 369 non-null    float64\n",
      " 3   index price          317 non-null    float64\n",
      " 4   log_indexprice       369 non-null    float64\n",
      " 5   inflationrate        326 non-null    float64\n",
      " 6   oil prices           369 non-null    float64\n",
      " 7   exchange_rate        367 non-null    float64\n",
      " 8   gdppercent           350 non-null    float64\n",
      " 9   percapitaincome      368 non-null    float64\n",
      " 10  unemploymentrate     348 non-null    float64\n",
      " 11  manufacturingoutput  278 non-null    float64\n",
      " 12  tradebalance         365 non-null    float64\n",
      " 13  USTreasury           369 non-null    float64\n",
      " 14  economy              369 non-null    object \n",
      " 15  time                 369 non-null    float64\n",
      " 16  NE.TRD.GNFS.ZS       369 non-null    float64\n",
      " 17  NY.GDP.MKTP.KD       369 non-null    float64\n",
      " 18  NY.GDP.MKTP.KD.ZG    369 non-null    float64\n",
      "dtypes: float64(16), object(3)\n",
      "memory usage: 57.7+ KB\n",
      "None\n"
     ]
    }
   ],
   "source": [
    "print(merged_data.shape)\n",
    "print(merged_data.info())"
   ]
  },
  {
   "cell_type": "code",
   "execution_count": 23,
   "id": "0df15508",
   "metadata": {},
   "outputs": [],
   "source": [
    "#Rename columns\n",
    "\n",
    "merged_data= merged_data.rename(columns={'NY.GDP.MKTP.KD.ZG':'GDP_growth','NY.GDP.MKTP.KD':'GDP','NE.TRD.GNFS.ZS':'trade',\n",
    "                                         'USTreasury':'US_treasury','manufacturingoutput':'manufacturing_output',\n",
    "                                        'unemploymentrate':'unemployment_rate', 'percapitaincome':'percapita_income',\n",
    "                                         'oil prices':'oil_prices','inflationrate':'inflation_rate',\n",
    "                                         'index price':'index_price','stock index': 'stock_index'})"
   ]
  },
  {
   "cell_type": "code",
   "execution_count": 24,
   "id": "319d24a1",
   "metadata": {},
   "outputs": [],
   "source": [
    "#Dropping columns\n",
    "#these columns are duplicate\n",
    "\n",
    "merged_data = merged_data.drop(['time','economy', 'tradebalance','gdppercent'], axis=1)"
   ]
  },
  {
   "cell_type": "code",
   "execution_count": 25,
   "id": "69a5f1b0",
   "metadata": {},
   "outputs": [
    {
     "data": {
      "text/html": [
       "<div>\n",
       "<style scoped>\n",
       "    .dataframe tbody tr th:only-of-type {\n",
       "        vertical-align: middle;\n",
       "    }\n",
       "\n",
       "    .dataframe tbody tr th {\n",
       "        vertical-align: top;\n",
       "    }\n",
       "\n",
       "    .dataframe thead th {\n",
       "        text-align: right;\n",
       "    }\n",
       "</style>\n",
       "<table border=\"1\" class=\"dataframe\">\n",
       "  <thead>\n",
       "    <tr style=\"text-align: right;\">\n",
       "      <th></th>\n",
       "      <th>stock_index</th>\n",
       "      <th>country</th>\n",
       "      <th>year</th>\n",
       "      <th>index_price</th>\n",
       "      <th>log_indexprice</th>\n",
       "      <th>inflation_rate</th>\n",
       "      <th>oil_prices</th>\n",
       "      <th>exchange_rate</th>\n",
       "      <th>percapita_income</th>\n",
       "      <th>unemployment_rate</th>\n",
       "      <th>manufacturing_output</th>\n",
       "      <th>US_treasury</th>\n",
       "      <th>trade</th>\n",
       "      <th>GDP</th>\n",
       "      <th>GDP_growth</th>\n",
       "    </tr>\n",
       "  </thead>\n",
       "  <tbody>\n",
       "    <tr>\n",
       "      <th>0</th>\n",
       "      <td>NASDAQ</td>\n",
       "      <td>United States of America</td>\n",
       "      <td>1980.0</td>\n",
       "      <td>168.61</td>\n",
       "      <td>2.23</td>\n",
       "      <td>0.14</td>\n",
       "      <td>21.59</td>\n",
       "      <td>1.00</td>\n",
       "      <td>12575.0</td>\n",
       "      <td>0.07</td>\n",
       "      <td>NaN</td>\n",
       "      <td>0.11</td>\n",
       "      <td>20.109845</td>\n",
       "      <td>7.080770e+12</td>\n",
       "      <td>-0.256750</td>\n",
       "    </tr>\n",
       "    <tr>\n",
       "      <th>1</th>\n",
       "      <td>NASDAQ</td>\n",
       "      <td>United States of America</td>\n",
       "      <td>1981.0</td>\n",
       "      <td>203.15</td>\n",
       "      <td>2.31</td>\n",
       "      <td>0.10</td>\n",
       "      <td>31.77</td>\n",
       "      <td>1.00</td>\n",
       "      <td>13976.0</td>\n",
       "      <td>0.08</td>\n",
       "      <td>NaN</td>\n",
       "      <td>0.14</td>\n",
       "      <td>19.425913</td>\n",
       "      <td>7.260460e+12</td>\n",
       "      <td>2.537719</td>\n",
       "    </tr>\n",
       "    <tr>\n",
       "      <th>2</th>\n",
       "      <td>NASDAQ</td>\n",
       "      <td>United States of America</td>\n",
       "      <td>1982.0</td>\n",
       "      <td>188.98</td>\n",
       "      <td>2.28</td>\n",
       "      <td>0.06</td>\n",
       "      <td>28.52</td>\n",
       "      <td>1.00</td>\n",
       "      <td>14434.0</td>\n",
       "      <td>0.10</td>\n",
       "      <td>NaN</td>\n",
       "      <td>0.13</td>\n",
       "      <td>17.536812</td>\n",
       "      <td>7.129562e+12</td>\n",
       "      <td>-1.802887</td>\n",
       "    </tr>\n",
       "    <tr>\n",
       "      <th>3</th>\n",
       "      <td>NASDAQ</td>\n",
       "      <td>United States of America</td>\n",
       "      <td>1983.0</td>\n",
       "      <td>285.43</td>\n",
       "      <td>2.46</td>\n",
       "      <td>0.03</td>\n",
       "      <td>26.19</td>\n",
       "      <td>1.00</td>\n",
       "      <td>15544.0</td>\n",
       "      <td>0.10</td>\n",
       "      <td>NaN</td>\n",
       "      <td>0.11</td>\n",
       "      <td>16.665593</td>\n",
       "      <td>7.456375e+12</td>\n",
       "      <td>4.583913</td>\n",
       "    </tr>\n",
       "    <tr>\n",
       "      <th>4</th>\n",
       "      <td>NASDAQ</td>\n",
       "      <td>United States of America</td>\n",
       "      <td>1984.0</td>\n",
       "      <td>248.89</td>\n",
       "      <td>2.40</td>\n",
       "      <td>0.04</td>\n",
       "      <td>25.88</td>\n",
       "      <td>1.00</td>\n",
       "      <td>17121.0</td>\n",
       "      <td>0.08</td>\n",
       "      <td>NaN</td>\n",
       "      <td>0.12</td>\n",
       "      <td>17.522407</td>\n",
       "      <td>7.995965e+12</td>\n",
       "      <td>7.236633</td>\n",
       "    </tr>\n",
       "    <tr>\n",
       "      <th>...</th>\n",
       "      <td>...</td>\n",
       "      <td>...</td>\n",
       "      <td>...</td>\n",
       "      <td>...</td>\n",
       "      <td>...</td>\n",
       "      <td>...</td>\n",
       "      <td>...</td>\n",
       "      <td>...</td>\n",
       "      <td>...</td>\n",
       "      <td>...</td>\n",
       "      <td>...</td>\n",
       "      <td>...</td>\n",
       "      <td>...</td>\n",
       "      <td>...</td>\n",
       "      <td>...</td>\n",
       "    </tr>\n",
       "    <tr>\n",
       "      <th>364</th>\n",
       "      <td>IEX 35</td>\n",
       "      <td>Spain</td>\n",
       "      <td>2016.0</td>\n",
       "      <td>9352.10</td>\n",
       "      <td>3.97</td>\n",
       "      <td>NaN</td>\n",
       "      <td>51.97</td>\n",
       "      <td>1.11</td>\n",
       "      <td>26523.0</td>\n",
       "      <td>0.20</td>\n",
       "      <td>139.01</td>\n",
       "      <td>0.02</td>\n",
       "      <td>63.739883</td>\n",
       "      <td>1.232494e+12</td>\n",
       "      <td>3.037774</td>\n",
       "    </tr>\n",
       "    <tr>\n",
       "      <th>365</th>\n",
       "      <td>IEX 35</td>\n",
       "      <td>Spain</td>\n",
       "      <td>2017.0</td>\n",
       "      <td>10043.90</td>\n",
       "      <td>4.00</td>\n",
       "      <td>0.02</td>\n",
       "      <td>57.88</td>\n",
       "      <td>1.13</td>\n",
       "      <td>28170.0</td>\n",
       "      <td>0.17</td>\n",
       "      <td>148.80</td>\n",
       "      <td>0.02</td>\n",
       "      <td>66.657061</td>\n",
       "      <td>1.269170e+12</td>\n",
       "      <td>2.975761</td>\n",
       "    </tr>\n",
       "    <tr>\n",
       "      <th>366</th>\n",
       "      <td>IEX 35</td>\n",
       "      <td>Spain</td>\n",
       "      <td>2018.0</td>\n",
       "      <td>8539.90</td>\n",
       "      <td>3.93</td>\n",
       "      <td>0.02</td>\n",
       "      <td>49.52</td>\n",
       "      <td>1.18</td>\n",
       "      <td>30389.0</td>\n",
       "      <td>0.15</td>\n",
       "      <td>158.33</td>\n",
       "      <td>0.03</td>\n",
       "      <td>67.574940</td>\n",
       "      <td>1.298163e+12</td>\n",
       "      <td>2.284469</td>\n",
       "    </tr>\n",
       "    <tr>\n",
       "      <th>367</th>\n",
       "      <td>IEX 35</td>\n",
       "      <td>Spain</td>\n",
       "      <td>2019.0</td>\n",
       "      <td>9549.20</td>\n",
       "      <td>3.98</td>\n",
       "      <td>0.01</td>\n",
       "      <td>59.88</td>\n",
       "      <td>1.12</td>\n",
       "      <td>29565.0</td>\n",
       "      <td>0.14</td>\n",
       "      <td>155.49</td>\n",
       "      <td>0.02</td>\n",
       "      <td>66.873891</td>\n",
       "      <td>1.323918e+12</td>\n",
       "      <td>1.983966</td>\n",
       "    </tr>\n",
       "    <tr>\n",
       "      <th>368</th>\n",
       "      <td>IEX 35</td>\n",
       "      <td>Spain</td>\n",
       "      <td>2020.0</td>\n",
       "      <td>8073.70</td>\n",
       "      <td>3.91</td>\n",
       "      <td>NaN</td>\n",
       "      <td>47.02</td>\n",
       "      <td>1.14</td>\n",
       "      <td>27057.0</td>\n",
       "      <td>0.16</td>\n",
       "      <td>143.05</td>\n",
       "      <td>0.01</td>\n",
       "      <td>60.143168</td>\n",
       "      <td>1.173979e+12</td>\n",
       "      <td>-11.325438</td>\n",
       "    </tr>\n",
       "  </tbody>\n",
       "</table>\n",
       "<p>369 rows × 15 columns</p>\n",
       "</div>"
      ],
      "text/plain": [
       "    stock_index                   country    year  index_price  \\\n",
       "0        NASDAQ  United States of America  1980.0       168.61   \n",
       "1        NASDAQ  United States of America  1981.0       203.15   \n",
       "2        NASDAQ  United States of America  1982.0       188.98   \n",
       "3        NASDAQ  United States of America  1983.0       285.43   \n",
       "4        NASDAQ  United States of America  1984.0       248.89   \n",
       "..          ...                       ...     ...          ...   \n",
       "364      IEX 35                     Spain  2016.0      9352.10   \n",
       "365      IEX 35                     Spain  2017.0     10043.90   \n",
       "366      IEX 35                     Spain  2018.0      8539.90   \n",
       "367      IEX 35                     Spain  2019.0      9549.20   \n",
       "368      IEX 35                     Spain  2020.0      8073.70   \n",
       "\n",
       "     log_indexprice  inflation_rate  oil_prices  exchange_rate  \\\n",
       "0              2.23            0.14       21.59           1.00   \n",
       "1              2.31            0.10       31.77           1.00   \n",
       "2              2.28            0.06       28.52           1.00   \n",
       "3              2.46            0.03       26.19           1.00   \n",
       "4              2.40            0.04       25.88           1.00   \n",
       "..              ...             ...         ...            ...   \n",
       "364            3.97             NaN       51.97           1.11   \n",
       "365            4.00            0.02       57.88           1.13   \n",
       "366            3.93            0.02       49.52           1.18   \n",
       "367            3.98            0.01       59.88           1.12   \n",
       "368            3.91             NaN       47.02           1.14   \n",
       "\n",
       "     percapita_income  unemployment_rate  manufacturing_output  US_treasury  \\\n",
       "0             12575.0               0.07                   NaN         0.11   \n",
       "1             13976.0               0.08                   NaN         0.14   \n",
       "2             14434.0               0.10                   NaN         0.13   \n",
       "3             15544.0               0.10                   NaN         0.11   \n",
       "4             17121.0               0.08                   NaN         0.12   \n",
       "..                ...                ...                   ...          ...   \n",
       "364           26523.0               0.20                139.01         0.02   \n",
       "365           28170.0               0.17                148.80         0.02   \n",
       "366           30389.0               0.15                158.33         0.03   \n",
       "367           29565.0               0.14                155.49         0.02   \n",
       "368           27057.0               0.16                143.05         0.01   \n",
       "\n",
       "         trade           GDP  GDP_growth  \n",
       "0    20.109845  7.080770e+12   -0.256750  \n",
       "1    19.425913  7.260460e+12    2.537719  \n",
       "2    17.536812  7.129562e+12   -1.802887  \n",
       "3    16.665593  7.456375e+12    4.583913  \n",
       "4    17.522407  7.995965e+12    7.236633  \n",
       "..         ...           ...         ...  \n",
       "364  63.739883  1.232494e+12    3.037774  \n",
       "365  66.657061  1.269170e+12    2.975761  \n",
       "366  67.574940  1.298163e+12    2.284469  \n",
       "367  66.873891  1.323918e+12    1.983966  \n",
       "368  60.143168  1.173979e+12  -11.325438  \n",
       "\n",
       "[369 rows x 15 columns]"
      ]
     },
     "execution_count": 25,
     "metadata": {},
     "output_type": "execute_result"
    }
   ],
   "source": [
    "merged_data"
   ]
  },
  {
   "cell_type": "code",
   "execution_count": 26,
   "id": "2b3e4c23",
   "metadata": {},
   "outputs": [
    {
     "data": {
      "text/plain": [
       "index_price             52\n",
       "inflation_rate          43\n",
       "exchange_rate            2\n",
       "percapita_income         1\n",
       "unemployment_rate       21\n",
       "manufacturing_output    91\n",
       "dtype: int64"
      ]
     },
     "execution_count": 26,
     "metadata": {},
     "output_type": "execute_result"
    }
   ],
   "source": [
    "#Checking for Nan values\n",
    "\n",
    "merged_data[merged_data.columns[merged_data.isnull().any()]].isnull().sum()"
   ]
  },
  {
   "cell_type": "code",
   "execution_count": 27,
   "id": "c529347d",
   "metadata": {},
   "outputs": [
    {
     "name": "stdout",
     "output_type": "stream",
     "text": [
      "index_price             14.092\n",
      "inflation_rate          11.653\n",
      "exchange_rate            0.542\n",
      "percapita_income         0.271\n",
      "unemployment_rate        5.691\n",
      "manufacturing_output    24.661\n",
      "dtype: float64\n"
     ]
    }
   ],
   "source": [
    "#Showing NaN values in percentage \n",
    "\n",
    "sum_percent = merged_data[merged_data.columns[merged_data.isnull().any()]].isnull().sum() * 100 / merged_data.shape[0]\n",
    "\n",
    "print(sum_percent.round(3))"
   ]
  },
  {
   "cell_type": "code",
   "execution_count": 28,
   "id": "8d108df1",
   "metadata": {},
   "outputs": [],
   "source": [
    "# Filling the NaN values with mean \n",
    "\n",
    "mean_index_price = merged_data['index_price'].mean()\n",
    "mean_index_price\n",
    "merged_data['index_price'] = merged_data['index_price'].fillna(mean_index_price)"
   ]
  },
  {
   "cell_type": "code",
   "execution_count": 29,
   "id": "50482d95",
   "metadata": {},
   "outputs": [],
   "source": [
    "mean_inflation_rate = merged_data['inflation_rate'].mean()\n",
    "mean_inflation_rate\n",
    "merged_data['inflation_rate'] = merged_data['inflation_rate'].fillna(mean_inflation_rate)"
   ]
  },
  {
   "cell_type": "code",
   "execution_count": 30,
   "id": "3c912060",
   "metadata": {},
   "outputs": [],
   "source": [
    "mean_manufacturing_output = merged_data['manufacturing_output'].mean()\n",
    "mean_manufacturing_output\n",
    "merged_data['manufacturing_output'] = merged_data['manufacturing_output'].fillna(mean_manufacturing_output)"
   ]
  },
  {
   "cell_type": "code",
   "execution_count": 31,
   "id": "5092c495",
   "metadata": {},
   "outputs": [],
   "source": [
    "mean_unemployment_rate = merged_data['unemployment_rate'].mean()\n",
    "mean_unemployment_rate\n",
    "merged_data['unemployment_rate'] = merged_data['unemployment_rate'].fillna(mean_unemployment_rate)"
   ]
  },
  {
   "cell_type": "code",
   "execution_count": 32,
   "id": "603a529a",
   "metadata": {},
   "outputs": [],
   "source": [
    "#Dropping Nan values in the other columns\n",
    "\n",
    "merged_data= merged_data.dropna(axis=0)"
   ]
  },
  {
   "cell_type": "code",
   "execution_count": 33,
   "id": "d512196d",
   "metadata": {},
   "outputs": [
    {
     "name": "stdout",
     "output_type": "stream",
     "text": [
      "stock_index             0\n",
      "country                 0\n",
      "year                    0\n",
      "index_price             0\n",
      "log_indexprice          0\n",
      "inflation_rate          0\n",
      "oil_prices              0\n",
      "exchange_rate           0\n",
      "percapita_income        0\n",
      "unemployment_rate       0\n",
      "manufacturing_output    0\n",
      "US_treasury             0\n",
      "trade                   0\n",
      "GDP                     0\n",
      "GDP_growth              0\n",
      "dtype: int64\n",
      "(366, 15)\n"
     ]
    }
   ],
   "source": [
    "print(merged_data.isna().sum())\n",
    "print(merged_data.shape)"
   ]
  },
  {
   "cell_type": "code",
   "execution_count": 35,
   "id": "7b457ec0",
   "metadata": {},
   "outputs": [
    {
     "name": "stderr",
     "output_type": "stream",
     "text": [
      "/var/folders/nb/lfzlcsrj38n5g0jr2ql_tmgc0000gn/T/ipykernel_80361/3738245912.py:1: SettingWithCopyWarning: \n",
      "A value is trying to be set on a copy of a slice from a DataFrame.\n",
      "Try using .loc[row_indexer,col_indexer] = value instead\n",
      "\n",
      "See the caveats in the documentation: https://pandas.pydata.org/pandas-docs/stable/user_guide/indexing.html#returning-a-view-versus-a-copy\n",
      "  merged_data['year']= merged_data['year'].astype(float).astype(int)\n"
     ]
    }
   ],
   "source": [
    "# Checking the types of columns\n",
    "\n",
    "merged_data['year']= merged_data['year'].astype(float).astype(int)"
   ]
  },
  {
   "cell_type": "code",
   "execution_count": 37,
   "id": "c5c2c820",
   "metadata": {},
   "outputs": [
    {
     "data": {
      "text/plain": [
       "stock_index              object\n",
       "country                  object\n",
       "year                      int64\n",
       "index_price             float64\n",
       "log_indexprice          float64\n",
       "inflation_rate          float64\n",
       "oil_prices              float64\n",
       "exchange_rate           float64\n",
       "percapita_income        float64\n",
       "unemployment_rate       float64\n",
       "manufacturing_output    float64\n",
       "US_treasury             float64\n",
       "trade                   float64\n",
       "GDP                     float64\n",
       "GDP_growth              float64\n",
       "dtype: object"
      ]
     },
     "execution_count": 37,
     "metadata": {},
     "output_type": "execute_result"
    }
   ],
   "source": [
    "merged_data.dtypes"
   ]
  },
  {
   "cell_type": "code",
   "execution_count": 38,
   "id": "caab6930",
   "metadata": {},
   "outputs": [
    {
     "data": {
      "text/html": [
       "<div>\n",
       "<style scoped>\n",
       "    .dataframe tbody tr th:only-of-type {\n",
       "        vertical-align: middle;\n",
       "    }\n",
       "\n",
       "    .dataframe tbody tr th {\n",
       "        vertical-align: top;\n",
       "    }\n",
       "\n",
       "    .dataframe thead th {\n",
       "        text-align: right;\n",
       "    }\n",
       "</style>\n",
       "<table border=\"1\" class=\"dataframe\">\n",
       "  <thead>\n",
       "    <tr style=\"text-align: right;\">\n",
       "      <th></th>\n",
       "      <th>stock_index</th>\n",
       "      <th>country</th>\n",
       "      <th>year</th>\n",
       "      <th>index_price</th>\n",
       "      <th>log_indexprice</th>\n",
       "      <th>inflation_rate</th>\n",
       "      <th>oil_prices</th>\n",
       "      <th>exchange_rate</th>\n",
       "      <th>percapita_income</th>\n",
       "      <th>unemployment_rate</th>\n",
       "      <th>manufacturing_output</th>\n",
       "      <th>US_treasury</th>\n",
       "      <th>trade</th>\n",
       "      <th>GDP</th>\n",
       "      <th>GDP_growth</th>\n",
       "    </tr>\n",
       "  </thead>\n",
       "  <tbody>\n",
       "    <tr>\n",
       "      <th>0</th>\n",
       "      <td>NASDAQ</td>\n",
       "      <td>United States of America</td>\n",
       "      <td>1980</td>\n",
       "      <td>168.61</td>\n",
       "      <td>2.23</td>\n",
       "      <td>0.140000</td>\n",
       "      <td>21.59</td>\n",
       "      <td>1.00</td>\n",
       "      <td>12575.0</td>\n",
       "      <td>0.07</td>\n",
       "      <td>328.08482</td>\n",
       "      <td>0.11</td>\n",
       "      <td>20.109845</td>\n",
       "      <td>7.080770e+12</td>\n",
       "      <td>-0.256750</td>\n",
       "    </tr>\n",
       "    <tr>\n",
       "      <th>1</th>\n",
       "      <td>NASDAQ</td>\n",
       "      <td>United States of America</td>\n",
       "      <td>1981</td>\n",
       "      <td>203.15</td>\n",
       "      <td>2.31</td>\n",
       "      <td>0.100000</td>\n",
       "      <td>31.77</td>\n",
       "      <td>1.00</td>\n",
       "      <td>13976.0</td>\n",
       "      <td>0.08</td>\n",
       "      <td>328.08482</td>\n",
       "      <td>0.14</td>\n",
       "      <td>19.425913</td>\n",
       "      <td>7.260460e+12</td>\n",
       "      <td>2.537719</td>\n",
       "    </tr>\n",
       "    <tr>\n",
       "      <th>2</th>\n",
       "      <td>NASDAQ</td>\n",
       "      <td>United States of America</td>\n",
       "      <td>1982</td>\n",
       "      <td>188.98</td>\n",
       "      <td>2.28</td>\n",
       "      <td>0.060000</td>\n",
       "      <td>28.52</td>\n",
       "      <td>1.00</td>\n",
       "      <td>14434.0</td>\n",
       "      <td>0.10</td>\n",
       "      <td>328.08482</td>\n",
       "      <td>0.13</td>\n",
       "      <td>17.536812</td>\n",
       "      <td>7.129562e+12</td>\n",
       "      <td>-1.802887</td>\n",
       "    </tr>\n",
       "    <tr>\n",
       "      <th>3</th>\n",
       "      <td>NASDAQ</td>\n",
       "      <td>United States of America</td>\n",
       "      <td>1983</td>\n",
       "      <td>285.43</td>\n",
       "      <td>2.46</td>\n",
       "      <td>0.030000</td>\n",
       "      <td>26.19</td>\n",
       "      <td>1.00</td>\n",
       "      <td>15544.0</td>\n",
       "      <td>0.10</td>\n",
       "      <td>328.08482</td>\n",
       "      <td>0.11</td>\n",
       "      <td>16.665593</td>\n",
       "      <td>7.456375e+12</td>\n",
       "      <td>4.583913</td>\n",
       "    </tr>\n",
       "    <tr>\n",
       "      <th>4</th>\n",
       "      <td>NASDAQ</td>\n",
       "      <td>United States of America</td>\n",
       "      <td>1984</td>\n",
       "      <td>248.89</td>\n",
       "      <td>2.40</td>\n",
       "      <td>0.040000</td>\n",
       "      <td>25.88</td>\n",
       "      <td>1.00</td>\n",
       "      <td>17121.0</td>\n",
       "      <td>0.08</td>\n",
       "      <td>328.08482</td>\n",
       "      <td>0.12</td>\n",
       "      <td>17.522407</td>\n",
       "      <td>7.995965e+12</td>\n",
       "      <td>7.236633</td>\n",
       "    </tr>\n",
       "    <tr>\n",
       "      <th>...</th>\n",
       "      <td>...</td>\n",
       "      <td>...</td>\n",
       "      <td>...</td>\n",
       "      <td>...</td>\n",
       "      <td>...</td>\n",
       "      <td>...</td>\n",
       "      <td>...</td>\n",
       "      <td>...</td>\n",
       "      <td>...</td>\n",
       "      <td>...</td>\n",
       "      <td>...</td>\n",
       "      <td>...</td>\n",
       "      <td>...</td>\n",
       "      <td>...</td>\n",
       "      <td>...</td>\n",
       "    </tr>\n",
       "    <tr>\n",
       "      <th>364</th>\n",
       "      <td>IEX 35</td>\n",
       "      <td>Spain</td>\n",
       "      <td>2016</td>\n",
       "      <td>9352.10</td>\n",
       "      <td>3.97</td>\n",
       "      <td>0.041748</td>\n",
       "      <td>51.97</td>\n",
       "      <td>1.11</td>\n",
       "      <td>26523.0</td>\n",
       "      <td>0.20</td>\n",
       "      <td>139.01000</td>\n",
       "      <td>0.02</td>\n",
       "      <td>63.739883</td>\n",
       "      <td>1.232494e+12</td>\n",
       "      <td>3.037774</td>\n",
       "    </tr>\n",
       "    <tr>\n",
       "      <th>365</th>\n",
       "      <td>IEX 35</td>\n",
       "      <td>Spain</td>\n",
       "      <td>2017</td>\n",
       "      <td>10043.90</td>\n",
       "      <td>4.00</td>\n",
       "      <td>0.020000</td>\n",
       "      <td>57.88</td>\n",
       "      <td>1.13</td>\n",
       "      <td>28170.0</td>\n",
       "      <td>0.17</td>\n",
       "      <td>148.80000</td>\n",
       "      <td>0.02</td>\n",
       "      <td>66.657061</td>\n",
       "      <td>1.269170e+12</td>\n",
       "      <td>2.975761</td>\n",
       "    </tr>\n",
       "    <tr>\n",
       "      <th>366</th>\n",
       "      <td>IEX 35</td>\n",
       "      <td>Spain</td>\n",
       "      <td>2018</td>\n",
       "      <td>8539.90</td>\n",
       "      <td>3.93</td>\n",
       "      <td>0.020000</td>\n",
       "      <td>49.52</td>\n",
       "      <td>1.18</td>\n",
       "      <td>30389.0</td>\n",
       "      <td>0.15</td>\n",
       "      <td>158.33000</td>\n",
       "      <td>0.03</td>\n",
       "      <td>67.574940</td>\n",
       "      <td>1.298163e+12</td>\n",
       "      <td>2.284469</td>\n",
       "    </tr>\n",
       "    <tr>\n",
       "      <th>367</th>\n",
       "      <td>IEX 35</td>\n",
       "      <td>Spain</td>\n",
       "      <td>2019</td>\n",
       "      <td>9549.20</td>\n",
       "      <td>3.98</td>\n",
       "      <td>0.010000</td>\n",
       "      <td>59.88</td>\n",
       "      <td>1.12</td>\n",
       "      <td>29565.0</td>\n",
       "      <td>0.14</td>\n",
       "      <td>155.49000</td>\n",
       "      <td>0.02</td>\n",
       "      <td>66.873891</td>\n",
       "      <td>1.323918e+12</td>\n",
       "      <td>1.983966</td>\n",
       "    </tr>\n",
       "    <tr>\n",
       "      <th>368</th>\n",
       "      <td>IEX 35</td>\n",
       "      <td>Spain</td>\n",
       "      <td>2020</td>\n",
       "      <td>8073.70</td>\n",
       "      <td>3.91</td>\n",
       "      <td>0.041748</td>\n",
       "      <td>47.02</td>\n",
       "      <td>1.14</td>\n",
       "      <td>27057.0</td>\n",
       "      <td>0.16</td>\n",
       "      <td>143.05000</td>\n",
       "      <td>0.01</td>\n",
       "      <td>60.143168</td>\n",
       "      <td>1.173979e+12</td>\n",
       "      <td>-11.325438</td>\n",
       "    </tr>\n",
       "  </tbody>\n",
       "</table>\n",
       "<p>366 rows × 15 columns</p>\n",
       "</div>"
      ],
      "text/plain": [
       "    stock_index                   country  year  index_price  log_indexprice  \\\n",
       "0        NASDAQ  United States of America  1980       168.61            2.23   \n",
       "1        NASDAQ  United States of America  1981       203.15            2.31   \n",
       "2        NASDAQ  United States of America  1982       188.98            2.28   \n",
       "3        NASDAQ  United States of America  1983       285.43            2.46   \n",
       "4        NASDAQ  United States of America  1984       248.89            2.40   \n",
       "..          ...                       ...   ...          ...             ...   \n",
       "364      IEX 35                     Spain  2016      9352.10            3.97   \n",
       "365      IEX 35                     Spain  2017     10043.90            4.00   \n",
       "366      IEX 35                     Spain  2018      8539.90            3.93   \n",
       "367      IEX 35                     Spain  2019      9549.20            3.98   \n",
       "368      IEX 35                     Spain  2020      8073.70            3.91   \n",
       "\n",
       "     inflation_rate  oil_prices  exchange_rate  percapita_income  \\\n",
       "0          0.140000       21.59           1.00           12575.0   \n",
       "1          0.100000       31.77           1.00           13976.0   \n",
       "2          0.060000       28.52           1.00           14434.0   \n",
       "3          0.030000       26.19           1.00           15544.0   \n",
       "4          0.040000       25.88           1.00           17121.0   \n",
       "..              ...         ...            ...               ...   \n",
       "364        0.041748       51.97           1.11           26523.0   \n",
       "365        0.020000       57.88           1.13           28170.0   \n",
       "366        0.020000       49.52           1.18           30389.0   \n",
       "367        0.010000       59.88           1.12           29565.0   \n",
       "368        0.041748       47.02           1.14           27057.0   \n",
       "\n",
       "     unemployment_rate  manufacturing_output  US_treasury      trade  \\\n",
       "0                 0.07             328.08482         0.11  20.109845   \n",
       "1                 0.08             328.08482         0.14  19.425913   \n",
       "2                 0.10             328.08482         0.13  17.536812   \n",
       "3                 0.10             328.08482         0.11  16.665593   \n",
       "4                 0.08             328.08482         0.12  17.522407   \n",
       "..                 ...                   ...          ...        ...   \n",
       "364               0.20             139.01000         0.02  63.739883   \n",
       "365               0.17             148.80000         0.02  66.657061   \n",
       "366               0.15             158.33000         0.03  67.574940   \n",
       "367               0.14             155.49000         0.02  66.873891   \n",
       "368               0.16             143.05000         0.01  60.143168   \n",
       "\n",
       "              GDP  GDP_growth  \n",
       "0    7.080770e+12   -0.256750  \n",
       "1    7.260460e+12    2.537719  \n",
       "2    7.129562e+12   -1.802887  \n",
       "3    7.456375e+12    4.583913  \n",
       "4    7.995965e+12    7.236633  \n",
       "..            ...         ...  \n",
       "364  1.232494e+12    3.037774  \n",
       "365  1.269170e+12    2.975761  \n",
       "366  1.298163e+12    2.284469  \n",
       "367  1.323918e+12    1.983966  \n",
       "368  1.173979e+12  -11.325438  \n",
       "\n",
       "[366 rows x 15 columns]"
      ]
     },
     "execution_count": 38,
     "metadata": {},
     "output_type": "execute_result"
    }
   ],
   "source": [
    "merged_data"
   ]
  },
  {
   "cell_type": "code",
   "execution_count": 39,
   "id": "9322f828",
   "metadata": {},
   "outputs": [
    {
     "name": "stdout",
     "output_type": "stream",
     "text": [
      "NASDAQ\n",
      "FTSE 100\n",
      "Nifty 50\n",
      "Nikkei 225\n",
      "HSI\n",
      "SZCOMP\n",
      "DAX 30\n",
      "CAC 40\n",
      "IEX 35\n"
     ]
    }
   ],
   "source": [
    "# To see which indices are included in the dataset \n",
    "\n",
    "for index in merged_data['stock_index'].unique():\n",
    "    print(index)"
   ]
  },
  {
   "cell_type": "markdown",
   "id": "fdb42440",
   "metadata": {},
   "source": [
    "# Check for outliers and the correlation between the macroeconomic factors "
   ]
  },
  {
   "cell_type": "code",
   "execution_count": 40,
   "id": "d7fe52e6",
   "metadata": {},
   "outputs": [],
   "source": [
    "numerical = merged_data.select_dtypes(np.number)\n",
    "categorical = merged_data.select_dtypes(object)"
   ]
  },
  {
   "cell_type": "code",
   "execution_count": 41,
   "id": "96d82374",
   "metadata": {},
   "outputs": [
    {
     "data": {
      "image/png": "[encoded data removed]",
      "text/plain": [
       "<Figure size 640x480 with 1 Axes>"
      ]
     },
     "metadata": {},
     "output_type": "display_data"
    },
    {
     "data": {
      "image/png": "[encoded data removed]",
      "text/plain": [
       "<Figure size 640x480 with 1 Axes>"
      ]
     },
     "metadata": {},
     "output_type": "display_data"
    },
    {
     "data": {
      "image/png": "[encoded data removed]",
      "text/plain": [
       "<Figure size 640x480 with 1 Axes>"
      ]
     },
     "metadata": {},
     "output_type": "display_data"
    },
    {
     "data": {
      "image/png": "[encoded data removed]",
      "text/plain": [
       "<Figure size 640x480 with 1 Axes>"
      ]
     },
     "metadata": {},
     "output_type": "display_data"
    },
    {
     "data": {
      "image/png": "[encoded data removed]",
      "text/plain": [
       "<Figure size 640x480 with 1 Axes>"
      ]
     },
     "metadata": {},
     "output_type": "display_data"
    },
    {
     "data": {
      "image/png": "[encoded data removed]",
      "text/plain": [
       "<Figure size 640x480 with 1 Axes>"
      ]
     },
     "metadata": {},
     "output_type": "display_data"
    },
    {
     "data": {
      "image/png": "[encoded data removed]",
      "text/plain": [
       "<Figure size 640x480 with 1 Axes>"
      ]
     },
     "metadata": {},
     "output_type": "display_data"
    },
    {
     "data": {
      "image/png": "[encoded data removed]",
      "text/plain": [
       "<Figure size 640x480 with 1 Axes>"
      ]
     },
     "metadata": {},
     "output_type": "display_data"
    },
    {
     "data": {
      "image/png": "[encoded data removed]",
      "text/plain": [
       "<Figure size 640x480 with 1 Axes>"
      ]
     },
     "metadata": {},
     "output_type": "display_data"
    },
    {
     "data": {
      "image/png": "[encoded data removed]",
      "text/plain": [
       "<Figure size 640x480 with 1 Axes>"
      ]
     },
     "metadata": {},
     "output_type": "display_data"
    },
    {
     "data": {
      "image/png": "[encoded data removed]",
      "text/plain": [
       "<Figure size 640x480 with 1 Axes>"
      ]
     },
     "metadata": {},
     "output_type": "display_data"
    },
    {
     "data": {
      "image/png": "[encoded data removed]",
      "text/plain": [
       "<Figure size 640x480 with 1 Axes>"
      ]
     },
     "metadata": {},
     "output_type": "display_data"
    },
    {
     "data": {
      "image/png": "[encoded data removed]",
      "text/plain": [
       "<Figure size 640x480 with 1 Axes>"
      ]
     },
     "metadata": {},
     "output_type": "display_data"
    }
   ],
   "source": [
    "for i in numerical.columns:\n",
    "    sns.boxplot(x = i, data = numerical)\n",
    "    plt.show()"
   ]
  },
  {
   "cell_type": "code",
   "execution_count": null,
   "id": "1ab1cacd",
   "metadata": {},
   "outputs": [],
   "source": [
    "# Check the distribution of values in index_price 'level' and 'log'"
   ]
  },
  {
   "cell_type": "code",
   "execution_count": 42,
   "id": "ca6bfe27",
   "metadata": {},
   "outputs": [
    {
     "data": {
      "image/png": "[encoded data removed]",
      "text/plain": [
       "<Figure size 500x500 with 1 Axes>"
      ]
     },
     "metadata": {},
     "output_type": "display_data"
    }
   ],
   "source": [
    "sns.displot(merged_data['index_price'], kde=True)\n",
    "plt.show()"
   ]
  },
  {
   "cell_type": "code",
   "execution_count": 43,
   "id": "f8dde137",
   "metadata": {},
   "outputs": [
    {
     "data": {
      "image/png": "[encoded data removed]",
      "text/plain": [
       "<Figure size 500x500 with 1 Axes>"
      ]
     },
     "metadata": {},
     "output_type": "display_data"
    }
   ],
   "source": [
    "sns.displot(merged_data['log_indexprice'], kde=True)\n",
    "plt.show()"
   ]
  },
  {
   "cell_type": "code",
   "execution_count": 44,
   "id": "ded9bca0",
   "metadata": {},
   "outputs": [
    {
     "name": "stderr",
     "output_type": "stream",
     "text": [
      "/var/folders/nb/lfzlcsrj38n5g0jr2ql_tmgc0000gn/T/ipykernel_80361/2898554873.py:2: FutureWarning: The default value of numeric_only in DataFrame.corr is deprecated. In a future version, it will default to False. Select only valid columns or specify the value of numeric_only to silence this warning.\n",
      "  correlations_matrix = merged_data.corr()\n"
     ]
    },
    {
     "data": {
      "image/png": "[encoded data removed]",
      "text/plain": [
       "<Figure size 1000x600 with 2 Axes>"
      ]
     },
     "metadata": {},
     "output_type": "display_data"
    }
   ],
   "source": [
    "plt.figure(figsize = (10,6))\n",
    "correlations_matrix = merged_data.corr()\n",
    "sns.heatmap(correlations_matrix, annot=True)\n",
    "plt.show()"
   ]
  },
  {
   "cell_type": "code",
   "execution_count": 45,
   "id": "7cfb3b3d",
   "metadata": {},
   "outputs": [],
   "source": [
    "#Dropping columns\n",
    "\n",
    "# The target variable is expressed once in level and again in log, so decided to use the log form\n",
    "# as it deals better with the differences in index_price between countries. \n",
    "# US_treasury will be dropped as well \n",
    "\n",
    "\n",
    "merged_data = merged_data.drop(['US_treasury', 'index_price'], axis=1)"
   ]
  },
  {
   "cell_type": "code",
   "execution_count": 46,
   "id": "6ba26065",
   "metadata": {},
   "outputs": [
    {
     "data": {
      "text/plain": [
       "(366, 13)"
      ]
     },
     "execution_count": 46,
     "metadata": {},
     "output_type": "execute_result"
    }
   ],
   "source": [
    "merged_data.shape"
   ]
  },
  {
   "cell_type": "markdown",
   "id": "6f24aebb",
   "metadata": {},
   "source": [
    "# Explanatory Data Analysis (EDA) graphically"
   ]
  },
  {
   "cell_type": "code",
   "execution_count": 47,
   "id": "d6bc9d75",
   "metadata": {},
   "outputs": [
    {
     "data": {
      "image/png": "[encoded data removed]",
      "text/plain": [
       "<Figure size 640x480 with 1 Axes>"
      ]
     },
     "metadata": {},
     "output_type": "display_data"
    }
   ],
   "source": [
    "sns.barplot(x= 'country', y= 'log_indexprice',data=merged_data)\n",
    "plt.xticks(rotation=90)\n",
    "plt.show()"
   ]
  },
  {
   "cell_type": "code",
   "execution_count": 48,
   "id": "86df2203",
   "metadata": {},
   "outputs": [
    {
     "data": {
      "image/png": "[encoded data removed]",
      "text/plain": [
       "<Figure size 640x480 with 1 Axes>"
      ]
     },
     "metadata": {},
     "output_type": "display_data"
    }
   ],
   "source": [
    "sns.lineplot(x= 'year', y= 'log_indexprice',data=merged_data)\n",
    "plt.show()"
   ]
  },
  {
   "cell_type": "code",
   "execution_count": null,
   "id": "95f7f171",
   "metadata": {},
   "outputs": [],
   "source": [
    "#'oil_prices', 'exchange_rate', 'percapita_income' and 'trade 'seem to have good correlation with the target \n",
    "# lets see these factors in each country "
   ]
  },
  {
   "cell_type": "code",
   "execution_count": 49,
   "id": "a399da03",
   "metadata": {},
   "outputs": [
    {
     "data": {
      "image/png": "[encoded data removed]",
      "text/plain": [
       "<Figure size 640x480 with 1 Axes>"
      ]
     },
     "metadata": {},
     "output_type": "display_data"
    }
   ],
   "source": [
    "sns.barplot(x= 'country', y= 'oil_prices',data=merged_data)\n",
    "plt.xticks(rotation=90)\n",
    "plt.show()"
   ]
  },
  {
   "cell_type": "code",
   "execution_count": 50,
   "id": "4fee3d66",
   "metadata": {},
   "outputs": [
    {
     "data": {
      "image/png": "[encoded data removed]",
      "text/plain": [
       "<Figure size 640x480 with 1 Axes>"
      ]
     },
     "metadata": {},
     "output_type": "display_data"
    }
   ],
   "source": [
    "sns.barplot(x= 'country', y= 'percapita_income',data=merged_data)\n",
    "plt.xticks(rotation=90)\n",
    "plt.show()"
   ]
  },
  {
   "cell_type": "code",
   "execution_count": 51,
   "id": "8797ed7a",
   "metadata": {},
   "outputs": [
    {
     "data": {
      "image/png": "[encoded data removed]",
      "text/plain": [
       "<Figure size 640x480 with 1 Axes>"
      ]
     },
     "metadata": {},
     "output_type": "display_data"
    }
   ],
   "source": [
    "sns.barplot(x= 'country', y= 'trade',data=merged_data)\n",
    "plt.xticks(rotation=90)\n",
    "plt.show()"
   ]
  },
  {
   "cell_type": "code",
   "execution_count": 52,
   "id": "472c29e1",
   "metadata": {},
   "outputs": [
    {
     "data": {
      "image/png": "[encoded data removed]",
      "text/plain": [
       "<Figure size 640x480 with 1 Axes>"
      ]
     },
     "metadata": {},
     "output_type": "display_data"
    }
   ],
   "source": [
    "sns.barplot(x= 'country', y= 'exchange_rate',data=merged_data)\n",
    "plt.xticks(rotation=90)\n",
    "plt.show()"
   ]
  },
  {
   "cell_type": "markdown",
   "id": "72d688ee",
   "metadata": {},
   "source": [
    "# Building the Linear Regression"
   ]
  },
  {
   "cell_type": "markdown",
   "id": "7111fdcb",
   "metadata": {},
   "source": [
    "#### X_y split"
   ]
  },
  {
   "cell_type": "code",
   "execution_count": 53,
   "id": "5b09ecfe",
   "metadata": {},
   "outputs": [],
   "source": [
    "# Setting y to our target\n",
    "y = merged_data['log_indexprice']\n",
    "\n",
    "# Putting the other features to x\n",
    "X = merged_data.drop(['log_indexprice'], axis=1)"
   ]
  },
  {
   "cell_type": "code",
   "execution_count": 54,
   "id": "a72617ff",
   "metadata": {},
   "outputs": [],
   "source": [
    "from sklearn.model_selection import train_test_split\n",
    "\n",
    "X_train, X_test, y_train, y_test = train_test_split(X, y, test_size=0.2, random_state=100)"
   ]
  },
  {
   "cell_type": "code",
   "execution_count": 55,
   "id": "468fe8cd",
   "metadata": {},
   "outputs": [
    {
     "data": {
      "text/plain": [
       "(292, 12)"
      ]
     },
     "metadata": {},
     "output_type": "display_data"
    },
    {
     "data": {
      "text/plain": [
       "(74, 12)"
      ]
     },
     "metadata": {},
     "output_type": "display_data"
    },
    {
     "data": {
      "text/plain": [
       "(292,)"
      ]
     },
     "metadata": {},
     "output_type": "display_data"
    },
    {
     "data": {
      "text/plain": [
       "(74,)"
      ]
     },
     "metadata": {},
     "output_type": "display_data"
    }
   ],
   "source": [
    "display(X_train.shape)\n",
    "display(X_test.shape)\n",
    "display(y_train.shape)\n",
    "display(y_test.shape)"
   ]
  },
  {
   "cell_type": "markdown",
   "id": "079a0517",
   "metadata": {},
   "source": [
    "#### Scale the numerical features"
   ]
  },
  {
   "cell_type": "code",
   "execution_count": 56,
   "id": "9b343899",
   "metadata": {},
   "outputs": [
    {
     "data": {
      "text/html": [
       "<div>\n",
       "<style scoped>\n",
       "    .dataframe tbody tr th:only-of-type {\n",
       "        vertical-align: middle;\n",
       "    }\n",
       "\n",
       "    .dataframe tbody tr th {\n",
       "        vertical-align: top;\n",
       "    }\n",
       "\n",
       "    .dataframe thead th {\n",
       "        text-align: right;\n",
       "    }\n",
       "</style>\n",
       "<table border=\"1\" class=\"dataframe\">\n",
       "  <thead>\n",
       "    <tr style=\"text-align: right;\">\n",
       "      <th></th>\n",
       "      <th>year</th>\n",
       "      <th>inflation_rate</th>\n",
       "      <th>oil_prices</th>\n",
       "      <th>exchange_rate</th>\n",
       "      <th>percapita_income</th>\n",
       "      <th>unemployment_rate</th>\n",
       "      <th>manufacturing_output</th>\n",
       "      <th>trade</th>\n",
       "      <th>GDP</th>\n",
       "      <th>GDP_growth</th>\n",
       "    </tr>\n",
       "  </thead>\n",
       "  <tbody>\n",
       "    <tr>\n",
       "      <th>159</th>\n",
       "      <td>2016</td>\n",
       "      <td>0.041748</td>\n",
       "      <td>51.97</td>\n",
       "      <td>108.76</td>\n",
       "      <td>38762.0</td>\n",
       "      <td>0.030000</td>\n",
       "      <td>100.22000</td>\n",
       "      <td>31.310247</td>\n",
       "      <td>4.478438e+12</td>\n",
       "      <td>0.753827</td>\n",
       "    </tr>\n",
       "    <tr>\n",
       "      <th>340</th>\n",
       "      <td>1992</td>\n",
       "      <td>0.060000</td>\n",
       "      <td>19.41</td>\n",
       "      <td>102.47</td>\n",
       "      <td>97.0</td>\n",
       "      <td>0.170000</td>\n",
       "      <td>328.08482</td>\n",
       "      <td>35.977842</td>\n",
       "      <td>7.631031e+11</td>\n",
       "      <td>0.929215</td>\n",
       "    </tr>\n",
       "    <tr>\n",
       "      <th>238</th>\n",
       "      <td>2013</td>\n",
       "      <td>0.030000</td>\n",
       "      <td>97.63</td>\n",
       "      <td>6.15</td>\n",
       "      <td>7051.0</td>\n",
       "      <td>0.050000</td>\n",
       "      <td>2935.34000</td>\n",
       "      <td>46.744376</td>\n",
       "      <td>9.619581e+12</td>\n",
       "      <td>7.766150</td>\n",
       "    </tr>\n",
       "    <tr>\n",
       "      <th>60</th>\n",
       "      <td>1999</td>\n",
       "      <td>0.020000</td>\n",
       "      <td>26.10</td>\n",
       "      <td>1.62</td>\n",
       "      <td>28668.0</td>\n",
       "      <td>0.060000</td>\n",
       "      <td>234.62000</td>\n",
       "      <td>49.580712</td>\n",
       "      <td>2.217116e+12</td>\n",
       "      <td>3.014070</td>\n",
       "    </tr>\n",
       "    <tr>\n",
       "      <th>287</th>\n",
       "      <td>1980</td>\n",
       "      <td>0.140000</td>\n",
       "      <td>21.59</td>\n",
       "      <td>4.23</td>\n",
       "      <td>1938.0</td>\n",
       "      <td>0.068908</td>\n",
       "      <td>19.77000</td>\n",
       "      <td>43.502667</td>\n",
       "      <td>1.300254e+12</td>\n",
       "      <td>1.578745</td>\n",
       "    </tr>\n",
       "  </tbody>\n",
       "</table>\n",
       "</div>"
      ],
      "text/plain": [
       "     year  inflation_rate  oil_prices  exchange_rate  percapita_income  \\\n",
       "159  2016        0.041748       51.97         108.76           38762.0   \n",
       "340  1992        0.060000       19.41         102.47              97.0   \n",
       "238  2013        0.030000       97.63           6.15            7051.0   \n",
       "60   1999        0.020000       26.10           1.62           28668.0   \n",
       "287  1980        0.140000       21.59           4.23            1938.0   \n",
       "\n",
       "     unemployment_rate  manufacturing_output      trade           GDP  \\\n",
       "159           0.030000             100.22000  31.310247  4.478438e+12   \n",
       "340           0.170000             328.08482  35.977842  7.631031e+11   \n",
       "238           0.050000            2935.34000  46.744376  9.619581e+12   \n",
       "60            0.060000             234.62000  49.580712  2.217116e+12   \n",
       "287           0.068908              19.77000  43.502667  1.300254e+12   \n",
       "\n",
       "     GDP_growth  \n",
       "159    0.753827  \n",
       "340    0.929215  \n",
       "238    7.766150  \n",
       "60     3.014070  \n",
       "287    1.578745  "
      ]
     },
     "execution_count": 56,
     "metadata": {},
     "output_type": "execute_result"
    }
   ],
   "source": [
    "# Numericals\n",
    "\n",
    "train_num = X_train.select_dtypes(np.number)\n",
    "test_num = X_test.select_dtypes(np.number)\n",
    "train_num.head()"
   ]
  },
  {
   "cell_type": "code",
   "execution_count": 57,
   "id": "3e67068c",
   "metadata": {},
   "outputs": [
    {
     "data": {
      "text/plain": [
       "159    4.23\n",
       "340    3.37\n",
       "238    3.34\n",
       "60     3.84\n",
       "287    2.60\n",
       "Name: log_indexprice, dtype: float64"
      ]
     },
     "execution_count": 57,
     "metadata": {},
     "output_type": "execute_result"
    }
   ],
   "source": [
    "y_train.head()"
   ]
  },
  {
   "cell_type": "code",
   "execution_count": 58,
   "id": "c9981a55",
   "metadata": {},
   "outputs": [],
   "source": [
    "# Normalize using MinMaxScaler \n",
    "\n",
    "from sklearn.preprocessing import MinMaxScaler\n",
    "\n",
    "transformer = MinMaxScaler().fit(train_num)\n",
    "numerical_train = transformer.transform(train_num)\n",
    "numerical_test = transformer.transform(test_num)"
   ]
  },
  {
   "cell_type": "code",
   "execution_count": 59,
   "id": "7582707f",
   "metadata": {},
   "outputs": [
    {
     "data": {
      "text/html": [
       "<div>\n",
       "<style scoped>\n",
       "    .dataframe tbody tr th:only-of-type {\n",
       "        vertical-align: middle;\n",
       "    }\n",
       "\n",
       "    .dataframe tbody tr th {\n",
       "        vertical-align: top;\n",
       "    }\n",
       "\n",
       "    .dataframe thead th {\n",
       "        text-align: right;\n",
       "    }\n",
       "</style>\n",
       "<table border=\"1\" class=\"dataframe\">\n",
       "  <thead>\n",
       "    <tr style=\"text-align: right;\">\n",
       "      <th></th>\n",
       "      <th>year</th>\n",
       "      <th>inflation_rate</th>\n",
       "      <th>oil_prices</th>\n",
       "      <th>exchange_rate</th>\n",
       "      <th>percapita_income</th>\n",
       "      <th>unemployment_rate</th>\n",
       "      <th>manufacturing_output</th>\n",
       "      <th>trade</th>\n",
       "      <th>GDP</th>\n",
       "      <th>GDP_growth</th>\n",
       "    </tr>\n",
       "  </thead>\n",
       "  <tbody>\n",
       "    <tr>\n",
       "      <th>0</th>\n",
       "      <td>0.900</td>\n",
       "      <td>0.291959</td>\n",
       "      <td>0.465772</td>\n",
       "      <td>0.434656</td>\n",
       "      <td>0.593613</td>\n",
       "      <td>0.041667</td>\n",
       "      <td>0.025758</td>\n",
       "      <td>0.044356</td>\n",
       "      <td>0.221929</td>\n",
       "      <td>0.455529</td>\n",
       "    </tr>\n",
       "    <tr>\n",
       "      <th>1</th>\n",
       "      <td>0.300</td>\n",
       "      <td>0.357143</td>\n",
       "      <td>0.092421</td>\n",
       "      <td>0.409309</td>\n",
       "      <td>0.001073</td>\n",
       "      <td>0.625000</td>\n",
       "      <td>0.084671</td>\n",
       "      <td>0.055201</td>\n",
       "      <td>0.034829</td>\n",
       "      <td>0.462144</td>\n",
       "    </tr>\n",
       "    <tr>\n",
       "      <th>2</th>\n",
       "      <td>0.825</td>\n",
       "      <td>0.250000</td>\n",
       "      <td>0.989336</td>\n",
       "      <td>0.021157</td>\n",
       "      <td>0.107643</td>\n",
       "      <td>0.125000</td>\n",
       "      <td>0.758751</td>\n",
       "      <td>0.080216</td>\n",
       "      <td>0.480831</td>\n",
       "      <td>0.719976</td>\n",
       "    </tr>\n",
       "    <tr>\n",
       "      <th>3</th>\n",
       "      <td>0.475</td>\n",
       "      <td>0.214286</td>\n",
       "      <td>0.169132</td>\n",
       "      <td>0.002901</td>\n",
       "      <td>0.438922</td>\n",
       "      <td>0.166667</td>\n",
       "      <td>0.060506</td>\n",
       "      <td>0.086806</td>\n",
       "      <td>0.108051</td>\n",
       "      <td>0.540767</td>\n",
       "    </tr>\n",
       "    <tr>\n",
       "      <th>4</th>\n",
       "      <td>0.000</td>\n",
       "      <td>0.642857</td>\n",
       "      <td>0.117418</td>\n",
       "      <td>0.013419</td>\n",
       "      <td>0.029286</td>\n",
       "      <td>0.203784</td>\n",
       "      <td>0.004959</td>\n",
       "      <td>0.072684</td>\n",
       "      <td>0.061879</td>\n",
       "      <td>0.486639</td>\n",
       "    </tr>\n",
       "  </tbody>\n",
       "</table>\n",
       "</div>"
      ],
      "text/plain": [
       "    year  inflation_rate  oil_prices  exchange_rate  percapita_income  \\\n",
       "0  0.900        0.291959    0.465772       0.434656          0.593613   \n",
       "1  0.300        0.357143    0.092421       0.409309          0.001073   \n",
       "2  0.825        0.250000    0.989336       0.021157          0.107643   \n",
       "3  0.475        0.214286    0.169132       0.002901          0.438922   \n",
       "4  0.000        0.642857    0.117418       0.013419          0.029286   \n",
       "\n",
       "   unemployment_rate  manufacturing_output     trade       GDP  GDP_growth  \n",
       "0           0.041667              0.025758  0.044356  0.221929    0.455529  \n",
       "1           0.625000              0.084671  0.055201  0.034829    0.462144  \n",
       "2           0.125000              0.758751  0.080216  0.480831    0.719976  \n",
       "3           0.166667              0.060506  0.086806  0.108051    0.540767  \n",
       "4           0.203784              0.004959  0.072684  0.061879    0.486639  "
      ]
     },
     "execution_count": 59,
     "metadata": {},
     "output_type": "execute_result"
    }
   ],
   "source": [
    "scaled_train_num= pd.DataFrame(numerical_train, columns=train_num.columns)\n",
    "scaled_test_num= pd.DataFrame(numerical_test, columns=test_num.columns)\n",
    "scaled_train_num.head()"
   ]
  },
  {
   "cell_type": "markdown",
   "id": "5b35f7d5",
   "metadata": {},
   "source": [
    "#### Encode the categorical features"
   ]
  },
  {
   "cell_type": "code",
   "execution_count": 60,
   "id": "2f8d0e12",
   "metadata": {},
   "outputs": [
    {
     "data": {
      "text/html": [
       "<div>\n",
       "<style scoped>\n",
       "    .dataframe tbody tr th:only-of-type {\n",
       "        vertical-align: middle;\n",
       "    }\n",
       "\n",
       "    .dataframe tbody tr th {\n",
       "        vertical-align: top;\n",
       "    }\n",
       "\n",
       "    .dataframe thead th {\n",
       "        text-align: right;\n",
       "    }\n",
       "</style>\n",
       "<table border=\"1\" class=\"dataframe\">\n",
       "  <thead>\n",
       "    <tr style=\"text-align: right;\">\n",
       "      <th></th>\n",
       "      <th>stock_index</th>\n",
       "      <th>country</th>\n",
       "    </tr>\n",
       "  </thead>\n",
       "  <tbody>\n",
       "    <tr>\n",
       "      <th>159</th>\n",
       "      <td>Nikkei 225</td>\n",
       "      <td>Japan</td>\n",
       "    </tr>\n",
       "    <tr>\n",
       "      <th>340</th>\n",
       "      <td>IEX 35</td>\n",
       "      <td>Spain</td>\n",
       "    </tr>\n",
       "    <tr>\n",
       "      <th>238</th>\n",
       "      <td>SZCOMP</td>\n",
       "      <td>China</td>\n",
       "    </tr>\n",
       "    <tr>\n",
       "      <th>60</th>\n",
       "      <td>FTSE 100</td>\n",
       "      <td>United Kingdom</td>\n",
       "    </tr>\n",
       "    <tr>\n",
       "      <th>287</th>\n",
       "      <td>CAC 40</td>\n",
       "      <td>France</td>\n",
       "    </tr>\n",
       "  </tbody>\n",
       "</table>\n",
       "</div>"
      ],
      "text/plain": [
       "    stock_index         country\n",
       "159  Nikkei 225           Japan\n",
       "340      IEX 35           Spain\n",
       "238      SZCOMP           China\n",
       "60     FTSE 100  United Kingdom\n",
       "287      CAC 40          France"
      ]
     },
     "execution_count": 60,
     "metadata": {},
     "output_type": "execute_result"
    }
   ],
   "source": [
    "#Categorical\n",
    "\n",
    "train_cat= X_train.select_dtypes(object)\n",
    "test_cat= X_test.select_dtypes(object)\n",
    "train_cat.head()"
   ]
  },
  {
   "cell_type": "code",
   "execution_count": 61,
   "id": "7271ff1d",
   "metadata": {},
   "outputs": [
    {
     "data": {
      "text/html": [
       "<div>\n",
       "<style scoped>\n",
       "    .dataframe tbody tr th:only-of-type {\n",
       "        vertical-align: middle;\n",
       "    }\n",
       "\n",
       "    .dataframe tbody tr th {\n",
       "        vertical-align: top;\n",
       "    }\n",
       "\n",
       "    .dataframe thead th {\n",
       "        text-align: right;\n",
       "    }\n",
       "</style>\n",
       "<table border=\"1\" class=\"dataframe\">\n",
       "  <thead>\n",
       "    <tr style=\"text-align: right;\">\n",
       "      <th></th>\n",
       "      <th>stock_index_DAX 30</th>\n",
       "      <th>stock_index_FTSE 100</th>\n",
       "      <th>stock_index_HSI</th>\n",
       "      <th>stock_index_IEX 35</th>\n",
       "      <th>stock_index_NASDAQ</th>\n",
       "      <th>stock_index_Nifty 50</th>\n",
       "      <th>stock_index_Nikkei 225</th>\n",
       "      <th>stock_index_SZCOMP</th>\n",
       "      <th>country_France</th>\n",
       "      <th>country_Germany</th>\n",
       "      <th>country_Hong Kong</th>\n",
       "      <th>country_India</th>\n",
       "      <th>country_Japan</th>\n",
       "      <th>country_Spain</th>\n",
       "      <th>country_United Kingdom</th>\n",
       "      <th>country_United States of America</th>\n",
       "    </tr>\n",
       "  </thead>\n",
       "  <tbody>\n",
       "    <tr>\n",
       "      <th>0</th>\n",
       "      <td>0.0</td>\n",
       "      <td>0.0</td>\n",
       "      <td>1.0</td>\n",
       "      <td>0.0</td>\n",
       "      <td>0.0</td>\n",
       "      <td>0.0</td>\n",
       "      <td>0.0</td>\n",
       "      <td>0.0</td>\n",
       "      <td>0.0</td>\n",
       "      <td>0.0</td>\n",
       "      <td>1.0</td>\n",
       "      <td>0.0</td>\n",
       "      <td>0.0</td>\n",
       "      <td>0.0</td>\n",
       "      <td>0.0</td>\n",
       "      <td>0.0</td>\n",
       "    </tr>\n",
       "    <tr>\n",
       "      <th>1</th>\n",
       "      <td>0.0</td>\n",
       "      <td>0.0</td>\n",
       "      <td>0.0</td>\n",
       "      <td>0.0</td>\n",
       "      <td>0.0</td>\n",
       "      <td>1.0</td>\n",
       "      <td>0.0</td>\n",
       "      <td>0.0</td>\n",
       "      <td>0.0</td>\n",
       "      <td>0.0</td>\n",
       "      <td>0.0</td>\n",
       "      <td>1.0</td>\n",
       "      <td>0.0</td>\n",
       "      <td>0.0</td>\n",
       "      <td>0.0</td>\n",
       "      <td>0.0</td>\n",
       "    </tr>\n",
       "    <tr>\n",
       "      <th>2</th>\n",
       "      <td>0.0</td>\n",
       "      <td>0.0</td>\n",
       "      <td>0.0</td>\n",
       "      <td>0.0</td>\n",
       "      <td>0.0</td>\n",
       "      <td>0.0</td>\n",
       "      <td>0.0</td>\n",
       "      <td>0.0</td>\n",
       "      <td>1.0</td>\n",
       "      <td>0.0</td>\n",
       "      <td>0.0</td>\n",
       "      <td>0.0</td>\n",
       "      <td>0.0</td>\n",
       "      <td>0.0</td>\n",
       "      <td>0.0</td>\n",
       "      <td>0.0</td>\n",
       "    </tr>\n",
       "    <tr>\n",
       "      <th>3</th>\n",
       "      <td>0.0</td>\n",
       "      <td>0.0</td>\n",
       "      <td>0.0</td>\n",
       "      <td>1.0</td>\n",
       "      <td>0.0</td>\n",
       "      <td>0.0</td>\n",
       "      <td>0.0</td>\n",
       "      <td>0.0</td>\n",
       "      <td>0.0</td>\n",
       "      <td>0.0</td>\n",
       "      <td>0.0</td>\n",
       "      <td>0.0</td>\n",
       "      <td>0.0</td>\n",
       "      <td>1.0</td>\n",
       "      <td>0.0</td>\n",
       "      <td>0.0</td>\n",
       "    </tr>\n",
       "    <tr>\n",
       "      <th>4</th>\n",
       "      <td>0.0</td>\n",
       "      <td>0.0</td>\n",
       "      <td>0.0</td>\n",
       "      <td>0.0</td>\n",
       "      <td>0.0</td>\n",
       "      <td>1.0</td>\n",
       "      <td>0.0</td>\n",
       "      <td>0.0</td>\n",
       "      <td>0.0</td>\n",
       "      <td>0.0</td>\n",
       "      <td>0.0</td>\n",
       "      <td>1.0</td>\n",
       "      <td>0.0</td>\n",
       "      <td>0.0</td>\n",
       "      <td>0.0</td>\n",
       "      <td>0.0</td>\n",
       "    </tr>\n",
       "  </tbody>\n",
       "</table>\n",
       "</div>"
      ],
      "text/plain": [
       "   stock_index_DAX 30  stock_index_FTSE 100  stock_index_HSI  \\\n",
       "0                 0.0                   0.0              1.0   \n",
       "1                 0.0                   0.0              0.0   \n",
       "2                 0.0                   0.0              0.0   \n",
       "3                 0.0                   0.0              0.0   \n",
       "4                 0.0                   0.0              0.0   \n",
       "\n",
       "   stock_index_IEX 35  stock_index_NASDAQ  stock_index_Nifty 50  \\\n",
       "0                 0.0                 0.0                   0.0   \n",
       "1                 0.0                 0.0                   1.0   \n",
       "2                 0.0                 0.0                   0.0   \n",
       "3                 1.0                 0.0                   0.0   \n",
       "4                 0.0                 0.0                   1.0   \n",
       "\n",
       "   stock_index_Nikkei 225  stock_index_SZCOMP  country_France  \\\n",
       "0                     0.0                 0.0             0.0   \n",
       "1                     0.0                 0.0             0.0   \n",
       "2                     0.0                 0.0             1.0   \n",
       "3                     0.0                 0.0             0.0   \n",
       "4                     0.0                 0.0             0.0   \n",
       "\n",
       "   country_Germany  country_Hong Kong  country_India  country_Japan  \\\n",
       "0              0.0                1.0            0.0            0.0   \n",
       "1              0.0                0.0            1.0            0.0   \n",
       "2              0.0                0.0            0.0            0.0   \n",
       "3              0.0                0.0            0.0            0.0   \n",
       "4              0.0                0.0            1.0            0.0   \n",
       "\n",
       "   country_Spain  country_United Kingdom  country_United States of America  \n",
       "0            0.0                     0.0                               0.0  \n",
       "1            0.0                     0.0                               0.0  \n",
       "2            0.0                     0.0                               0.0  \n",
       "3            1.0                     0.0                               0.0  \n",
       "4            0.0                     0.0                               0.0  "
      ]
     },
     "execution_count": 61,
     "metadata": {},
     "output_type": "execute_result"
    }
   ],
   "source": [
    "from sklearn.preprocessing import OneHotEncoder\n",
    "\n",
    "encoder = OneHotEncoder(handle_unknown='ignore', drop='first').fit(train_cat)\n",
    "encoded_train_cat = encoder.transform(train_cat).toarray()\n",
    "cols = encoder.get_feature_names_out(input_features=train_cat.columns)\n",
    "train_cat_encoded = pd.DataFrame(encoded_train_cat, columns=cols)\n",
    "train_cat_encoded.head() \n",
    "\n",
    "\n",
    "\n",
    "encoded_test_cat = encoder.transform(test_cat).toarray()\n",
    "cols = encoder.get_feature_names_out(input_features=test_cat.columns)\n",
    "test_cat_encoded = pd.DataFrame(encoded_test_cat, columns=cols)\n",
    "test_cat_encoded.head()"
   ]
  },
  {
   "cell_type": "markdown",
   "id": "f25b00c0",
   "metadata": {},
   "source": [
    "#### re-concatenate train_num and train_cat  as well as test_num and test_cat "
   ]
  },
  {
   "cell_type": "code",
   "execution_count": 62,
   "id": "54e085fd",
   "metadata": {},
   "outputs": [],
   "source": [
    "X_train_treated= pd.concat((scaled_train_num, train_cat_encoded), axis=1)\n",
    "X_test_treated= pd.concat((scaled_test_num, test_cat_encoded), axis=1)"
   ]
  },
  {
   "cell_type": "markdown",
   "id": "f7806aac",
   "metadata": {},
   "source": [
    "#### Linear Regression"
   ]
  },
  {
   "cell_type": "code",
   "execution_count": 63,
   "id": "5cbf91d8",
   "metadata": {},
   "outputs": [
    {
     "data": {
      "text/html": [
       "<style>#sk-container-id-1 {color: black;background-color: white;}#sk-container-id-1 pre{padding: 0;}#sk-container-id-1 div.sk-toggleable {background-color: white;}#sk-container-id-1 label.sk-toggleable__label {cursor: pointer;display: block;width: 100%;margin-bottom: 0;padding: 0.3em;box-sizing: border-box;text-align: center;}#sk-container-id-1 label.sk-toggleable__label-arrow:before {content: \"▸\";float: left;margin-right: 0.25em;color: #696969;}#sk-container-id-1 label.sk-toggleable__label-arrow:hover:before {color: black;}#sk-container-id-1 div.sk-estimator:hover label.sk-toggleable__label-arrow:before {color: black;}#sk-container-id-1 div.sk-toggleable__content {max-height: 0;max-width: 0;overflow: hidden;text-align: left;background-color: #f0f8ff;}#sk-container-id-1 div.sk-toggleable__content pre {margin: 0.2em;color: black;border-radius: 0.25em;background-color: #f0f8ff;}#sk-container-id-1 input.sk-toggleable__control:checked~div.sk-toggleable__content {max-height: 200px;max-width: 100%;overflow: auto;}#sk-container-id-1 input.sk-toggleable__control:checked~label.sk-toggleable__label-arrow:before {content: \"▾\";}#sk-container-id-1 div.sk-estimator input.sk-toggleable__control:checked~label.sk-toggleable__label {background-color: #d4ebff;}#sk-container-id-1 div.sk-label input.sk-toggleable__control:checked~label.sk-toggleable__label {background-color: #d4ebff;}#sk-container-id-1 input.sk-hidden--visually {border: 0;clip: rect(1px 1px 1px 1px);clip: rect(1px, 1px, 1px, 1px);height: 1px;margin: -1px;overflow: hidden;padding: 0;position: absolute;width: 1px;}#sk-container-id-1 div.sk-estimator {font-family: monospace;background-color: #f0f8ff;border: 1px dotted black;border-radius: 0.25em;box-sizing: border-box;margin-bottom: 0.5em;}#sk-container-id-1 div.sk-estimator:hover {background-color: #d4ebff;}#sk-container-id-1 div.sk-parallel-item::after {content: \"\";width: 100%;border-bottom: 1px solid gray;flex-grow: 1;}#sk-container-id-1 div.sk-label:hover label.sk-toggleable__label {background-color: #d4ebff;}#sk-container-id-1 div.sk-serial::before {content: \"\";position: absolute;border-left: 1px solid gray;box-sizing: border-box;top: 0;bottom: 0;left: 50%;z-index: 0;}#sk-container-id-1 div.sk-serial {display: flex;flex-direction: column;align-items: center;background-color: white;padding-right: 0.2em;padding-left: 0.2em;position: relative;}#sk-container-id-1 div.sk-item {position: relative;z-index: 1;}#sk-container-id-1 div.sk-parallel {display: flex;align-items: stretch;justify-content: center;background-color: white;position: relative;}#sk-container-id-1 div.sk-item::before, #sk-container-id-1 div.sk-parallel-item::before {content: \"\";position: absolute;border-left: 1px solid gray;box-sizing: border-box;top: 0;bottom: 0;left: 50%;z-index: -1;}#sk-container-id-1 div.sk-parallel-item {display: flex;flex-direction: column;z-index: 1;position: relative;background-color: white;}#sk-container-id-1 div.sk-parallel-item:first-child::after {align-self: flex-end;width: 50%;}#sk-container-id-1 div.sk-parallel-item:last-child::after {align-self: flex-start;width: 50%;}#sk-container-id-1 div.sk-parallel-item:only-child::after {width: 0;}#sk-container-id-1 div.sk-dashed-wrapped {border: 1px dashed gray;margin: 0 0.4em 0.5em 0.4em;box-sizing: border-box;padding-bottom: 0.4em;background-color: white;}#sk-container-id-1 div.sk-label label {font-family: monospace;font-weight: bold;display: inline-block;line-height: 1.2em;}#sk-container-id-1 div.sk-label-container {text-align: center;}#sk-container-id-1 div.sk-container {/* jupyter's `normalize.less` sets `[hidden] { display: none; }` but bootstrap.min.css set `[hidden] { display: none !important; }` so we also need the `!important` here to be able to override the default hidden behavior on the sphinx rendered scikit-learn.org. See: https://github.com/scikit-learn/scikit-learn/issues/21755 */display: inline-block !important;position: relative;}#sk-container-id-1 div.sk-text-repr-fallback {display: none;}</style><div id=\"sk-container-id-1\" class=\"sk-top-container\"><div class=\"sk-text-repr-fallback\"><pre>LinearRegression()</pre><b>In a Jupyter environment, please rerun this cell to show the HTML representation or trust the notebook. <br />On GitHub, the HTML representation is unable to render, please try loading this page with nbviewer.org.</b></div><div class=\"sk-container\" hidden><div class=\"sk-item\"><div class=\"sk-estimator sk-toggleable\"><input class=\"sk-toggleable__control sk-hidden--visually\" id=\"sk-estimator-id-1\" type=\"checkbox\" checked><label for=\"sk-estimator-id-1\" class=\"sk-toggleable__label sk-toggleable__label-arrow\">LinearRegression</label><div class=\"sk-toggleable__content\"><pre>LinearRegression()</pre></div></div></div></div></div>"
      ],
      "text/plain": [
       "LinearRegression()"
      ]
     },
     "execution_count": 63,
     "metadata": {},
     "output_type": "execute_result"
    }
   ],
   "source": [
    "from sklearn import linear_model\n",
    "\n",
    "lm = linear_model.LinearRegression()\n",
    "lm.fit(X_train_treated,y_train)"
   ]
  },
  {
   "cell_type": "code",
   "execution_count": 64,
   "id": "5ceff235",
   "metadata": {},
   "outputs": [
    {
     "data": {
      "text/plain": [
       "0.8565602947531168"
      ]
     },
     "execution_count": 64,
     "metadata": {},
     "output_type": "execute_result"
    }
   ],
   "source": [
    "from sklearn.metrics import r2_score\n",
    "\n",
    "predictions = lm.predict(X_train_treated)\n",
    "r2_score(y_train, predictions)"
   ]
  },
  {
   "cell_type": "code",
   "execution_count": 65,
   "id": "26326fda",
   "metadata": {},
   "outputs": [
    {
     "data": {
      "text/plain": [
       "0.853841179513961"
      ]
     },
     "execution_count": 65,
     "metadata": {},
     "output_type": "execute_result"
    }
   ],
   "source": [
    "predictions_test = lm.predict(X_test_treated)\n",
    "predictions_test\n",
    "r2_score(y_test, predictions_test)"
   ]
  },
  {
   "cell_type": "markdown",
   "id": "41e6b285",
   "metadata": {},
   "source": [
    "# Comparing different models scores"
   ]
  },
  {
   "cell_type": "code",
   "execution_count": 66,
   "id": "1ce45b8f",
   "metadata": {},
   "outputs": [
    {
     "name": "stderr",
     "output_type": "stream",
     "text": [
      "/Users/esraaahmed/opt/anaconda3/envs/Newenvironment/lib/python3.8/site-packages/sklearn/neural_network/_multilayer_perceptron.py:702: ConvergenceWarning: Stochastic Optimizer: Maximum iterations (200) reached and the optimization hasn't converged yet.\n",
      "  warnings.warn(\n",
      "/Users/esraaahmed/opt/anaconda3/envs/Newenvironment/lib/python3.8/site-packages/sklearn/neural_network/_multilayer_perceptron.py:702: ConvergenceWarning: Stochastic Optimizer: Maximum iterations (200) reached and the optimization hasn't converged yet.\n",
      "  warnings.warn(\n"
     ]
    },
    {
     "name": "stdout",
     "output_type": "stream",
     "text": [
      "{'Decision Tree Regressor': 0.854374653163935, 'Linear Regression': 0.8316356495956168, 'KNN': 0.9340236053507407, 'Random Forest': 0.9373749675897063, 'MLP_reg': 0.7793603213939801}\n"
     ]
    }
   ],
   "source": [
    "from sklearn.model_selection import cross_val_score\n",
    "from sklearn.tree import DecisionTreeRegressor\n",
    "from sklearn.linear_model import LinearRegression\n",
    "from sklearn.neighbors import KNeighborsRegressor\n",
    "from sklearn.linear_model import LogisticRegression\n",
    "from sklearn.ensemble import RandomForestRegressor\n",
    "from sklearn.neural_network import MLPRegressor\n",
    "\n",
    "\n",
    "model1 = DecisionTreeRegressor()\n",
    "model2 = LinearRegression()\n",
    "model3 = KNeighborsRegressor()\n",
    "model4 = RandomForestRegressor()\n",
    "model5 = MLPRegressor()\n",
    "\n",
    "\n",
    "model_pipeline = [model1, model2, model3, model4, model5]\n",
    "model_names = ['Decision Tree Regressor', 'Linear Regression', 'KNN', 'Random Forest', 'MLP_reg']\n",
    "scores = {}\n",
    "for model, model_name in zip(model_pipeline, model_names):\n",
    "    mean_score = np.mean(cross_val_score(model, X_train_treated, y_train, cv=5))\n",
    "    scores[model_name] = mean_score\n",
    "print(scores)"
   ]
  },
  {
   "cell_type": "code",
   "execution_count": 67,
   "id": "5e64cae0",
   "metadata": {},
   "outputs": [
    {
     "name": "stdout",
     "output_type": "stream",
     "text": [
      "{'Decision Tree Regressor': 0.3906682909288171, 'Linear Regression': 0.8042689083188298, 'KNN': 0.5327312963911851, 'Random Forest': 0.6880618764518749, 'MLP_reg': 0.6253452507796713}\n"
     ]
    },
    {
     "name": "stderr",
     "output_type": "stream",
     "text": [
      "/Users/esraaahmed/opt/anaconda3/envs/Newenvironment/lib/python3.8/site-packages/sklearn/neural_network/_multilayer_perceptron.py:702: ConvergenceWarning: Stochastic Optimizer: Maximum iterations (200) reached and the optimization hasn't converged yet.\n",
      "  warnings.warn(\n",
      "/Users/esraaahmed/opt/anaconda3/envs/Newenvironment/lib/python3.8/site-packages/sklearn/neural_network/_multilayer_perceptron.py:702: ConvergenceWarning: Stochastic Optimizer: Maximum iterations (200) reached and the optimization hasn't converged yet.\n",
      "  warnings.warn(\n",
      "/Users/esraaahmed/opt/anaconda3/envs/Newenvironment/lib/python3.8/site-packages/sklearn/neural_network/_multilayer_perceptron.py:702: ConvergenceWarning: Stochastic Optimizer: Maximum iterations (200) reached and the optimization hasn't converged yet.\n",
      "  warnings.warn(\n"
     ]
    }
   ],
   "source": [
    "model1 = DecisionTreeRegressor()\n",
    "model2 = LinearRegression()\n",
    "model3 = KNeighborsRegressor()\n",
    "model4 = RandomForestRegressor()\n",
    "model5 = MLPRegressor()\n",
    "\n",
    "\n",
    "\n",
    "model_pipeline = [model1, model2, model3, model4, model5]\n",
    "model_names = ['Decision Tree Regressor', 'Linear Regression', 'KNN','Random Forest', 'MLP_reg']\n",
    "scores = {}\n",
    "for model, model_name in zip(model_pipeline, model_names):\n",
    "    mean_score = np.mean(cross_val_score(model, X_test_treated, y_test, cv=5))\n",
    "    scores[model_name] = mean_score\n",
    "print(scores)"
   ]
  },
  {
   "cell_type": "markdown",
   "id": "173f20bc",
   "metadata": {},
   "source": [
    "#### The best score for the test dataset is from the linear regression"
   ]
  },
  {
   "cell_type": "code",
   "execution_count": 68,
   "id": "320c8ee2",
   "metadata": {},
   "outputs": [],
   "source": [
    "merged_data.to_csv('merged_data.csv', index=False)"
   ]
  },
  {
   "cell_type": "code",
   "execution_count": 69,
   "id": "b285b23f",
   "metadata": {},
   "outputs": [],
   "source": [
    "# for future reference\n",
    "\n",
    "\n",
    "#def models_automation(models, X_train_treated, y_train,X_test_treated,y_test):\n",
    "#    for model in models:\n",
    "#        model.fit(X_train_treated, y_train)\n",
    "#        print(f\"{model.__class__.__name__}: Train -> {model.score(X_train_treated, y_train)}, Test -> {model.score(X_test_treated, y_test)}\")"
   ]
  },
  {
   "cell_type": "code",
   "execution_count": 70,
   "id": "702247d7",
   "metadata": {},
   "outputs": [],
   "source": [
    "#model_list = [LinearRegression(),KNeighborsRegressor(),DecisionTreeRegressor(),MLPRegressor(),RandomForestRegressor()]\n",
    "#models_automation(model_list, X_train_treated, y_train,X_test_treated,y_test)"
   ]
  },
  {
   "cell_type": "code",
   "execution_count": null,
   "id": "604fbb72",
   "metadata": {},
   "outputs": [],
   "source": []
  }
 ],
 "metadata": {
  "kernelspec": {
   "display_name": "Python 3 (ipykernel)",
   "language": "python",
   "name": "python3"
  },
  "language_info": {
   "codemirror_mode": {
    "name": "ipython",
    "version": 3
   },
   "file_extension": ".py",
   "mimetype": "text/x-python",
   "name": "python",
   "nbconvert_exporter": "python",
   "pygments_lexer": "ipython3",
   "version": "3.8.15"
  }
 },
 "nbformat": 4,
 "nbformat_minor": 5
}
